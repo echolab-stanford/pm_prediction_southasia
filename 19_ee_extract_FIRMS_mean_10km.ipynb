{
 "cells": [
  {
   "cell_type": "code",
   "execution_count": 1,
   "id": "17d55333",
   "metadata": {},
   "outputs": [],
   "source": [
    "import ee\n",
    "import pandas as pd\n",
    "from datetime import datetime, timedelta\n",
    "from dateutil.relativedelta import relativedelta"
   ]
  },
  {
   "cell_type": "code",
   "execution_count": 2,
   "id": "c7bb36af",
   "metadata": {},
   "outputs": [
    {
     "data": {
      "text/html": [
       "<p>To authorize access needed by Earth Engine, open the following\n",
       "        URL in a web browser and follow the instructions:</p>\n",
       "        <p><a href=https://code.earthengine.google.com/client-auth?scopes=https%3A//www.googleapis.com/auth/earthengine%20https%3A//www.googleapis.com/auth/devstorage.full_control&request_id=jOWiq9aKySp43GTfiLzAJUN0TglOAij25E5AtLmb2-Y&tc=iNQW_QhSvDk5t1ub790gvsWRPJkOvN7W3uAzpmvBPXM&cc=O_-VmMMv59rTrzjiTiEumIUyvU2JqJ_TLg5ML0gFd7U>https://code.earthengine.google.com/client-auth?scopes=https%3A//www.googleapis.com/auth/earthengine%20https%3A//www.googleapis.com/auth/devstorage.full_control&request_id=jOWiq9aKySp43GTfiLzAJUN0TglOAij25E5AtLmb2-Y&tc=iNQW_QhSvDk5t1ub790gvsWRPJkOvN7W3uAzpmvBPXM&cc=O_-VmMMv59rTrzjiTiEumIUyvU2JqJ_TLg5ML0gFd7U</a></p>\n",
       "        <p>The authorization workflow will generate a code, which you should paste in the box below.</p>\n",
       "        "
      ],
      "text/plain": [
       "<IPython.core.display.HTML object>"
      ]
     },
     "metadata": {},
     "output_type": "display_data"
    },
    {
     "name": "stdout",
     "output_type": "stream",
     "text": [
      "Enter verification code: 4/1AWgavdfUm1JBQScrcX8U7BvT_g3cxRV_P6KkI-VRP-v5VipNSB9xkKJitBQ\n",
      "\n",
      "Successfully saved authorization token.\n"
     ]
    }
   ],
   "source": [
    "#ee.Authenticate()"
   ]
  },
  {
   "cell_type": "code",
   "execution_count": 13,
   "id": "8ded554c",
   "metadata": {},
   "outputs": [],
   "source": [
    "# If it's for the first time, authentication is required before running this code\n",
    "# https://developers.google.com/earth-engine/guides/python_install-conda#windows_5\n",
    "ee.Initialize()"
   ]
  },
  {
   "cell_type": "code",
   "execution_count": 14,
   "id": "bf989627",
   "metadata": {},
   "outputs": [],
   "source": [
    "# earth engine location of the subsets of the 10km grid created separately in the script \"00_create_10_by_10_grid.R\"\n",
    "# 10km grid shapefile needs to be uploaded to assets in your GEE before running this line\n",
    "grid = ee.FeatureCollection(\"projects/ee-akawano/assets/grid_10km\")\n",
    "\n",
    "# google drive associated with your GEE account\n",
    "output_drive = \"FIRMS_mean_10km\"\n",
    "timezone = \"utc\""
   ]
  },
  {
   "cell_type": "code",
   "execution_count": 15,
   "id": "ec05a0f8",
   "metadata": {},
   "outputs": [],
   "source": [
    "# FIRMS: Fire Information for Resource Management System\n",
    "# https://developers.google.com/earth-engine/datasets/catalog/FIRMS\n",
    "\n",
    "maiac = ee.ImageCollection(\"FIRMS\").select(\"T21\")\n",
    "maiac_proj = maiac.first().projection()\n",
    "pixel_res = maiac_proj.nominalScale().getInfo()"
   ]
  },
  {
   "cell_type": "code",
   "execution_count": 16,
   "id": "5ba3e5b4",
   "metadata": {},
   "outputs": [
    {
     "name": "stdout",
     "output_type": "stream",
     "text": [
      "['2018-04-01', '2018-07-01', '2018-10-01', '2019-01-01', '2019-04-01', '2019-07-01', '2019-10-01', '2020-01-01', '2020-04-01', '2020-07-01', '2020-10-01', '2021-01-01', '2021-04-01', '2021-07-01', '2021-10-01', '2022-01-01', '2022-04-01', '2022-07-01']\n",
      "['2018-07-01', '2018-10-01', '2019-01-01', '2019-04-01', '2019-07-01', '2019-10-01', '2020-01-01', '2020-04-01', '2020-07-01', '2020-10-01', '2021-01-01', '2021-04-01', '2021-07-01', '2021-10-01', '2022-01-01', '2022-04-01', '2022-07-01', '2022-10-01']\n"
     ]
    }
   ],
   "source": [
    "# set start_date and end_date every 3 months\n",
    "start_date_1 = pd.to_datetime(\"2018-04-01\", format=\"%Y/%m/%d\")\n",
    "end_date_1 = pd.to_datetime(\"2022-08-01\", format=\"%Y/%m/%d\")\n",
    "\n",
    "# Initialize an empty list to store the date strings for the first list\n",
    "start_date_list = []\n",
    "\n",
    "# Loop through the dates for the first list, incrementing by 3 months each time\n",
    "while start_date_1 < end_date_1:\n",
    "    start_date_list.append(start_date_1.strftime(\"%Y-%m-%d\"))\n",
    "    \n",
    "    # Increment the start date by 3 months\n",
    "    start_date_1 += relativedelta(months=3)\n",
    "\n",
    "# Start and end dates for the second list\n",
    "start_date_2 = pd.to_datetime(\"2018-07-01\", format=\"%Y/%m/%d\")\n",
    "end_date_2 = pd.to_datetime(\"2022-11-01\", format=\"%Y/%m/%d\")\n",
    "\n",
    "# Initialize an empty list to store the date strings for the second list\n",
    "end_date_list = []\n",
    "\n",
    "# Loop through the dates for the second list, incrementing by 3 months each time\n",
    "while start_date_2 < end_date_2:\n",
    "    # Format the date as a string in the year-month-day format\n",
    "    end_date_list.append(start_date_2.strftime(\"%Y-%m-%d\"))\n",
    "    \n",
    "    # Increment the start date by 3 months\n",
    "    start_date_2 += relativedelta(months=3)\n",
    "\n",
    "# Print the lists of date strings\n",
    "print(start_date_list)\n",
    "print(end_date_list)"
   ]
  },
  {
   "cell_type": "code",
   "execution_count": 17,
   "id": "0e15f434",
   "metadata": {},
   "outputs": [],
   "source": [
    "# Calculate how many days between start and end days\n",
    "def calculate_length(start_date, end_date):\n",
    "    start_date = pd.to_datetime(start_date)\n",
    "    end_date = pd.to_datetime(end_date)\n",
    "    length_date = (end_date - start_date).days\n",
    "    return length_date"
   ]
  },
  {
   "cell_type": "code",
   "execution_count": 18,
   "id": "17d57641",
   "metadata": {},
   "outputs": [],
   "source": [
    "def create_image(start_date, length_date):\n",
    "    images_list = ee.List([])\n",
    "    for i in range(0, length_date):\n",
    "        # timezone is default utc in ee.Date.fromYMD\n",
    "        start_date = pd.to_datetime(start_date)\n",
    "        im_date = ee.Date.fromYMD(start_date.year, start_date.month, start_date.day).advance(i, 'day')\n",
    "        im_date_end = im_date.advance(1, 'day')\n",
    "        im = maiac.filterDate(im_date, im_date_end).reduce(ee.Reducer.mean())\n",
    "        im = ee.Image(im).set(\"start_date\", im_date.format(\"yMMdd\"))\n",
    "        images_list = images_list.add(im)\n",
    "    return ee.ImageCollection.fromImages(images_list)"
   ]
  },
  {
   "cell_type": "code",
   "execution_count": 19,
   "id": "c38ddad3",
   "metadata": {},
   "outputs": [],
   "source": [
    "# For each day, calculate average for each cell grid\n",
    "def process_image(start_date, end_date):\n",
    "    length_date = calculate_length(start_date, end_date)\n",
    "    maiac_images = create_image(start_date, length_date)\n",
    "    maiac_images_reduced = maiac_images.map(lambda daily_im: (\n",
    "        daily_im.reduceRegions(\n",
    "            collection = grid,\n",
    "            reducer = ee.Reducer.mean(),\n",
    "            crs = maiac_proj,\n",
    "            scale = pixel_res\n",
    "        ).map(lambda f: f.set(\"start_date\", daily_im.get(\"start_date\")))))\n",
    "    grid_maiac = ee.FeatureCollection(maiac_images_reduced).flatten()\n",
    "    return grid_maiac"
   ]
  },
  {
   "cell_type": "code",
   "execution_count": 20,
   "id": "fd36681c",
   "metadata": {},
   "outputs": [
    {
     "data": {
      "text/plain": [
       "['grid_id', 'mean', 'start_date']"
      ]
     },
     "execution_count": 20,
     "metadata": {},
     "output_type": "execute_result"
    }
   ],
   "source": [
    "# make a list of properties to export \n",
    "export_properties = [\"grid_id\", \"mean\", \"start_date\"]\n",
    "export_properties"
   ]
  },
  {
   "cell_type": "code",
   "execution_count": 11,
   "id": "bf3241c8",
   "metadata": {},
   "outputs": [
    {
     "name": "stdout",
     "output_type": "stream",
     "text": [
      "saving file as {'FIRMS_mean_10km_2018-04-01_to_2018-07-01'}\n",
      "saving file as {'FIRMS_mean_10km_2018-07-01_to_2018-10-01'}\n",
      "saving file as {'FIRMS_mean_10km_2018-10-01_to_2019-01-01'}\n",
      "saving file as {'FIRMS_mean_10km_2019-01-01_to_2019-04-01'}\n",
      "saving file as {'FIRMS_mean_10km_2019-04-01_to_2019-07-01'}\n",
      "saving file as {'FIRMS_mean_10km_2019-07-01_to_2019-10-01'}\n",
      "saving file as {'FIRMS_mean_10km_2019-10-01_to_2020-01-01'}\n",
      "saving file as {'FIRMS_mean_10km_2020-01-01_to_2020-04-01'}\n",
      "saving file as {'FIRMS_mean_10km_2020-04-01_to_2020-07-01'}\n",
      "saving file as {'FIRMS_mean_10km_2020-07-01_to_2020-10-01'}\n",
      "saving file as {'FIRMS_mean_10km_2020-10-01_to_2021-01-01'}\n",
      "saving file as {'FIRMS_mean_10km_2021-01-01_to_2021-04-01'}\n",
      "saving file as {'FIRMS_mean_10km_2021-04-01_to_2021-07-01'}\n",
      "saving file as {'FIRMS_mean_10km_2021-07-01_to_2021-10-01'}\n",
      "saving file as {'FIRMS_mean_10km_2021-10-01_to_2022-01-01'}\n",
      "saving file as {'FIRMS_mean_10km_2022-01-01_to_2022-04-01'}\n",
      "saving file as {'FIRMS_mean_10km_2022-04-01_to_2022-07-01'}\n",
      "saving file as {'FIRMS_mean_10km_2022-07-01_to_2022-10-01'}\n"
     ]
    }
   ],
   "source": [
    "# loop using start_date_list and end_date_list\n",
    "for start_date, end_date in zip(start_date_list, end_date_list):\n",
    "        grid_aod = process_image(start_date, end_date)\n",
    "        x = \"FIRMS_mean_10km\"\n",
    "        y = start_date\n",
    "        t = \"to\"\n",
    "        z = end_date\n",
    "        output_name = \"_\".join([x, y, t, z])\n",
    "        aod_task = ee.batch.Export.table.toDrive(\n",
    "            collection = grid_aod,\n",
    "            folder = output_drive,\n",
    "            description = output_name,\n",
    "            fileFormat = \"CSV\",\n",
    "            selectors = export_properties)\n",
    "        print(f\"saving file as\", {output_name})\n",
    "        aod_task.start()"
   ]
  },
  {
   "cell_type": "code",
   "execution_count": 12,
   "id": "ab8bb019",
   "metadata": {},
   "outputs": [
    {
     "name": "stdout",
     "output_type": "stream",
     "text": [
      "saving file as {'FIRMS_mean_10km_2022-10-01_to_2022-11-01'}\n"
     ]
    }
   ],
   "source": [
    "start_date = \"2022-10-01\"\n",
    "end_date = \"2022-11-01\"\n",
    "\n",
    "grid_aod = process_image(start_date, end_date)\n",
    "x = \"FIRMS_mean_10km\"\n",
    "y = start_date\n",
    "t = \"to\"\n",
    "z = end_date\n",
    "output_name = \"_\".join([x, y, t, z])\n",
    "aod_task = ee.batch.Export.table.toDrive(\n",
    "    collection = grid_aod,\n",
    "    folder = output_drive,\n",
    "    description = output_name,\n",
    "    fileFormat = \"CSV\",\n",
    "    selectors = export_properties)\n",
    "print(f\"saving file as\", {output_name})\n",
    "aod_task.start()"
   ]
  },
  {
   "cell_type": "code",
   "execution_count": 21,
   "id": "b932ee5f",
   "metadata": {},
   "outputs": [
    {
     "name": "stdout",
     "output_type": "stream",
     "text": [
      "saving file as {'FIRMS_mean_10km_2018-07-01_to_2018-08-01'}\n"
     ]
    }
   ],
   "source": [
    "# Error FIRMS_mean_10km_2018-07-01_to_2018-10-01\n",
    "start_date = \"2018-07-01\"\n",
    "end_date = \"2018-08-01\"\n",
    "\n",
    "grid_aod = process_image(start_date, end_date)\n",
    "x = \"FIRMS_mean_10km\"\n",
    "y = start_date\n",
    "t = \"to\"\n",
    "z = end_date\n",
    "output_name = \"_\".join([x, y, t, z])\n",
    "aod_task = ee.batch.Export.table.toDrive(\n",
    "    collection = grid_aod,\n",
    "    folder = output_drive,\n",
    "    description = output_name,\n",
    "    fileFormat = \"CSV\",\n",
    "    selectors = export_properties)\n",
    "print(f\"saving file as\", {output_name})\n",
    "aod_task.start()"
   ]
  },
  {
   "cell_type": "code",
   "execution_count": 22,
   "id": "b3653551",
   "metadata": {},
   "outputs": [
    {
     "name": "stdout",
     "output_type": "stream",
     "text": [
      "saving file as {'FIRMS_mean_10km_2018-08-01_to_2018-09-01'}\n"
     ]
    }
   ],
   "source": [
    "# Error FIRMS_mean_10km_2018-07-01_to_2018-10-01\n",
    "start_date = \"2018-08-01\"\n",
    "end_date = \"2018-09-01\"\n",
    "\n",
    "grid_aod = process_image(start_date, end_date)\n",
    "x = \"FIRMS_mean_10km\"\n",
    "y = start_date\n",
    "t = \"to\"\n",
    "z = end_date\n",
    "output_name = \"_\".join([x, y, t, z])\n",
    "aod_task = ee.batch.Export.table.toDrive(\n",
    "    collection = grid_aod,\n",
    "    folder = output_drive,\n",
    "    description = output_name,\n",
    "    fileFormat = \"CSV\",\n",
    "    selectors = export_properties)\n",
    "print(f\"saving file as\", {output_name})\n",
    "aod_task.start()"
   ]
  },
  {
   "cell_type": "code",
   "execution_count": 23,
   "id": "3fd3d56a",
   "metadata": {},
   "outputs": [
    {
     "name": "stdout",
     "output_type": "stream",
     "text": [
      "saving file as {'FIRMS_mean_10km_2018-09-01_to_2018-10-01'}\n"
     ]
    }
   ],
   "source": [
    "# Error FIRMS_mean_10km_2018-07-01_to_2018-10-01\n",
    "start_date = \"2018-09-01\"\n",
    "end_date = \"2018-10-01\"\n",
    "\n",
    "grid_aod = process_image(start_date, end_date)\n",
    "x = \"FIRMS_mean_10km\"\n",
    "y = start_date\n",
    "t = \"to\"\n",
    "z = end_date\n",
    "output_name = \"_\".join([x, y, t, z])\n",
    "aod_task = ee.batch.Export.table.toDrive(\n",
    "    collection = grid_aod,\n",
    "    folder = output_drive,\n",
    "    description = output_name,\n",
    "    fileFormat = \"CSV\",\n",
    "    selectors = export_properties)\n",
    "print(f\"saving file as\", {output_name})\n",
    "aod_task.start()"
   ]
  },
  {
   "cell_type": "code",
   "execution_count": 24,
   "id": "2321380b",
   "metadata": {},
   "outputs": [
    {
     "name": "stdout",
     "output_type": "stream",
     "text": [
      "saving file as {'FIRMS_mean_10km_2018-07-01_to_2018-07-15'}\n"
     ]
    }
   ],
   "source": [
    "# Error FIRMS_mean_10km_2018-07-01_to_2018-08-01\n",
    "start_date = \"2018-07-01\"\n",
    "end_date = \"2018-07-15\"\n",
    "\n",
    "grid_aod = process_image(start_date, end_date)\n",
    "x = \"FIRMS_mean_10km\"\n",
    "y = start_date\n",
    "t = \"to\"\n",
    "z = end_date\n",
    "output_name = \"_\".join([x, y, t, z])\n",
    "aod_task = ee.batch.Export.table.toDrive(\n",
    "    collection = grid_aod,\n",
    "    folder = output_drive,\n",
    "    description = output_name,\n",
    "    fileFormat = \"CSV\",\n",
    "    selectors = export_properties)\n",
    "print(f\"saving file as\", {output_name})\n",
    "aod_task.start()"
   ]
  },
  {
   "cell_type": "code",
   "execution_count": 25,
   "id": "a209e61d",
   "metadata": {},
   "outputs": [
    {
     "name": "stdout",
     "output_type": "stream",
     "text": [
      "saving file as {'FIRMS_mean_10km_2018-07-15_to_2018-07-31'}\n"
     ]
    }
   ],
   "source": [
    "# Error FIRMS_mean_10km_2018-07-01_to_2018-08-01\n",
    "start_date = \"2018-07-15\"\n",
    "end_date = \"2018-07-31\"\n",
    "\n",
    "grid_aod = process_image(start_date, end_date)\n",
    "x = \"FIRMS_mean_10km\"\n",
    "y = start_date\n",
    "t = \"to\"\n",
    "z = end_date\n",
    "output_name = \"_\".join([x, y, t, z])\n",
    "aod_task = ee.batch.Export.table.toDrive(\n",
    "    collection = grid_aod,\n",
    "    folder = output_drive,\n",
    "    description = output_name,\n",
    "    fileFormat = \"CSV\",\n",
    "    selectors = export_properties)\n",
    "print(f\"saving file as\", {output_name})\n",
    "aod_task.start()"
   ]
  },
  {
   "cell_type": "code",
   "execution_count": 26,
   "id": "29da9974",
   "metadata": {},
   "outputs": [
    {
     "name": "stdout",
     "output_type": "stream",
     "text": [
      "saving file as {'FIRMS_mean_10km_2018-07-01_to_2018-07-05'}\n"
     ]
    }
   ],
   "source": [
    "# Error FIRMS_mean_10km_2018-07-01_to_2018-07-15\n",
    "start_date = \"2018-07-01\"\n",
    "end_date = \"2018-07-05\"\n",
    "\n",
    "grid_aod = process_image(start_date, end_date)\n",
    "x = \"FIRMS_mean_10km\"\n",
    "y = start_date\n",
    "t = \"to\"\n",
    "z = end_date\n",
    "output_name = \"_\".join([x, y, t, z])\n",
    "aod_task = ee.batch.Export.table.toDrive(\n",
    "    collection = grid_aod,\n",
    "    folder = output_drive,\n",
    "    description = output_name,\n",
    "    fileFormat = \"CSV\",\n",
    "    selectors = export_properties)\n",
    "print(f\"saving file as\", {output_name})\n",
    "aod_task.start()"
   ]
  },
  {
   "cell_type": "code",
   "execution_count": 27,
   "id": "df88d81b",
   "metadata": {},
   "outputs": [
    {
     "name": "stdout",
     "output_type": "stream",
     "text": [
      "saving file as {'FIRMS_mean_10km_2018-07-05_to_2018-07-10'}\n"
     ]
    }
   ],
   "source": [
    "# Error FIRMS_mean_10km_2018-07-01_to_2018-07-15\n",
    "start_date = \"2018-07-05\"\n",
    "end_date = \"2018-07-10\"\n",
    "\n",
    "grid_aod = process_image(start_date, end_date)\n",
    "x = \"FIRMS_mean_10km\"\n",
    "y = start_date\n",
    "t = \"to\"\n",
    "z = end_date\n",
    "output_name = \"_\".join([x, y, t, z])\n",
    "aod_task = ee.batch.Export.table.toDrive(\n",
    "    collection = grid_aod,\n",
    "    folder = output_drive,\n",
    "    description = output_name,\n",
    "    fileFormat = \"CSV\",\n",
    "    selectors = export_properties)\n",
    "print(f\"saving file as\", {output_name})\n",
    "aod_task.start()"
   ]
  },
  {
   "cell_type": "code",
   "execution_count": 28,
   "id": "e29723a2",
   "metadata": {},
   "outputs": [
    {
     "name": "stdout",
     "output_type": "stream",
     "text": [
      "saving file as {'FIRMS_mean_10km_2018-07-10_to_2018-07-15'}\n"
     ]
    }
   ],
   "source": [
    "# Error FIRMS_mean_10km_2018-07-01_to_2018-07-15\n",
    "start_date = \"2018-07-10\"\n",
    "end_date = \"2018-07-15\"\n",
    "\n",
    "grid_aod = process_image(start_date, end_date)\n",
    "x = \"FIRMS_mean_10km\"\n",
    "y = start_date\n",
    "t = \"to\"\n",
    "z = end_date\n",
    "output_name = \"_\".join([x, y, t, z])\n",
    "aod_task = ee.batch.Export.table.toDrive(\n",
    "    collection = grid_aod,\n",
    "    folder = output_drive,\n",
    "    description = output_name,\n",
    "    fileFormat = \"CSV\",\n",
    "    selectors = export_properties)\n",
    "print(f\"saving file as\", {output_name})\n",
    "aod_task.start()"
   ]
  },
  {
   "cell_type": "code",
   "execution_count": 29,
   "id": "e9efb863",
   "metadata": {},
   "outputs": [
    {
     "name": "stdout",
     "output_type": "stream",
     "text": [
      "saving file as {'FIRMS_mean_10km_2018-07-05_to_2018-07-08'}\n"
     ]
    }
   ],
   "source": [
    "# Error FIRMS_mean_10km_2018-07-05_to_2018-07-10\n",
    "start_date = \"2018-07-05\"\n",
    "end_date = \"2018-07-08\"\n",
    "\n",
    "grid_aod = process_image(start_date, end_date)\n",
    "x = \"FIRMS_mean_10km\"\n",
    "y = start_date\n",
    "t = \"to\"\n",
    "z = end_date\n",
    "output_name = \"_\".join([x, y, t, z])\n",
    "aod_task = ee.batch.Export.table.toDrive(\n",
    "    collection = grid_aod,\n",
    "    folder = output_drive,\n",
    "    description = output_name,\n",
    "    fileFormat = \"CSV\",\n",
    "    selectors = export_properties)\n",
    "print(f\"saving file as\", {output_name})\n",
    "aod_task.start()"
   ]
  },
  {
   "cell_type": "code",
   "execution_count": 30,
   "id": "c13605d9",
   "metadata": {},
   "outputs": [
    {
     "name": "stdout",
     "output_type": "stream",
     "text": [
      "saving file as {'FIRMS_mean_10km_2018-07-08_to_2018-07-10'}\n"
     ]
    }
   ],
   "source": [
    "# Error FIRMS_mean_10km_2018-07-05_to_2018-07-10\n",
    "start_date = \"2018-07-08\"\n",
    "end_date = \"2018-07-10\"\n",
    "\n",
    "grid_aod = process_image(start_date, end_date)\n",
    "x = \"FIRMS_mean_10km\"\n",
    "y = start_date\n",
    "t = \"to\"\n",
    "z = end_date\n",
    "output_name = \"_\".join([x, y, t, z])\n",
    "aod_task = ee.batch.Export.table.toDrive(\n",
    "    collection = grid_aod,\n",
    "    folder = output_drive,\n",
    "    description = output_name,\n",
    "    fileFormat = \"CSV\",\n",
    "    selectors = export_properties)\n",
    "print(f\"saving file as\", {output_name})\n",
    "aod_task.start()"
   ]
  },
  {
   "cell_type": "code",
   "execution_count": 31,
   "id": "7d121e5a",
   "metadata": {},
   "outputs": [
    {
     "name": "stdout",
     "output_type": "stream",
     "text": [
      "saving file as {'FIRMS_mean_10km_2018-07-05_to_2018-07-07'}\n"
     ]
    }
   ],
   "source": [
    "# FIRMS_mean_10km_2018-07-05_to_2018-07-08\n",
    "start_date = \"2018-07-05\"\n",
    "end_date = \"2018-07-07\"\n",
    "\n",
    "grid_aod = process_image(start_date, end_date)\n",
    "x = \"FIRMS_mean_10km\"\n",
    "y = start_date\n",
    "t = \"to\"\n",
    "z = end_date\n",
    "output_name = \"_\".join([x, y, t, z])\n",
    "aod_task = ee.batch.Export.table.toDrive(\n",
    "    collection = grid_aod,\n",
    "    folder = output_drive,\n",
    "    description = output_name,\n",
    "    fileFormat = \"CSV\",\n",
    "    selectors = export_properties)\n",
    "print(f\"saving file as\", {output_name})\n",
    "aod_task.start()"
   ]
  },
  {
   "cell_type": "code",
   "execution_count": 32,
   "id": "e5d91b31",
   "metadata": {},
   "outputs": [
    {
     "name": "stdout",
     "output_type": "stream",
     "text": [
      "saving file as {'FIRMS_mean_10km_2018-07-06_to_2018-07-08'}\n"
     ]
    }
   ],
   "source": [
    "# FIRMS_mean_10km_2018-07-05_to_2018-07-08\n",
    "start_date = \"2018-07-06\"\n",
    "end_date = \"2018-07-08\"\n",
    "\n",
    "grid_aod = process_image(start_date, end_date)\n",
    "x = \"FIRMS_mean_10km\"\n",
    "y = start_date\n",
    "t = \"to\"\n",
    "z = end_date\n",
    "output_name = \"_\".join([x, y, t, z])\n",
    "aod_task = ee.batch.Export.table.toDrive(\n",
    "    collection = grid_aod,\n",
    "    folder = output_drive,\n",
    "    description = output_name,\n",
    "    fileFormat = \"CSV\",\n",
    "    selectors = export_properties)\n",
    "print(f\"saving file as\", {output_name})\n",
    "aod_task.start()"
   ]
  },
  {
   "cell_type": "code",
   "execution_count": 33,
   "id": "1957b194",
   "metadata": {},
   "outputs": [],
   "source": [
    "# Error FIRMS_mean_10km_2018-07-05_to_2018-07-10 within FIRMS_mean_10km_2018-07-01_to_2018-10-01\n",
    "# FIRMS_mean_10km_2018-07-05_to_2018-07-07 works"
   ]
  },
  {
   "cell_type": "code",
   "execution_count": null,
   "id": "30289edc",
   "metadata": {},
   "outputs": [],
   "source": [
    "# if you want to cancel tasks:\n",
    "# https://code.earthengine.google.com/tasks"
   ]
  }
 ],
 "metadata": {
  "kernelspec": {
   "display_name": "Python [conda env:ee] *",
   "language": "python",
   "name": "conda-env-ee-py"
  },
  "language_info": {
   "codemirror_mode": {
    "name": "ipython",
    "version": 3
   },
   "file_extension": ".py",
   "mimetype": "text/x-python",
   "name": "python",
   "nbconvert_exporter": "python",
   "pygments_lexer": "ipython3",
   "version": "3.8.15"
  }
 },
 "nbformat": 4,
 "nbformat_minor": 5
}
