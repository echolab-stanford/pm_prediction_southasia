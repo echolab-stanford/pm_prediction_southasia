{
 "cells": [
  {
   "cell_type": "code",
   "execution_count": 1,
   "id": "17d55333",
   "metadata": {},
   "outputs": [],
   "source": [
    "import ee\n",
    "import pandas as pd\n",
    "from datetime import datetime, timedelta\n",
    "from dateutil.relativedelta import relativedelta"
   ]
  },
  {
   "cell_type": "code",
   "execution_count": 12,
   "id": "becf6f1d",
   "metadata": {},
   "outputs": [
    {
     "data": {
      "text/html": [
       "<p>To authorize access needed by Earth Engine, open the following\n",
       "        URL in a web browser and follow the instructions:</p>\n",
       "        <p><a href=https://code.earthengine.google.com/client-auth?scopes=https%3A//www.googleapis.com/auth/earthengine%20https%3A//www.googleapis.com/auth/devstorage.full_control&request_id=8Cwsqz1zCiHfhyKHfNwRUaMWvlBnZHWEl0nsR_bzAlA&tc=3pLU7q8MW03FGj1-Ia2YTcErH-LVro7lxhu7Nzg5riI&cc=pNB6t9LsSEYQY6WN2UAVzHYYpnzC7V5hDmhMEy327Ks>https://code.earthengine.google.com/client-auth?scopes=https%3A//www.googleapis.com/auth/earthengine%20https%3A//www.googleapis.com/auth/devstorage.full_control&request_id=8Cwsqz1zCiHfhyKHfNwRUaMWvlBnZHWEl0nsR_bzAlA&tc=3pLU7q8MW03FGj1-Ia2YTcErH-LVro7lxhu7Nzg5riI&cc=pNB6t9LsSEYQY6WN2UAVzHYYpnzC7V5hDmhMEy327Ks</a></p>\n",
       "        <p>The authorization workflow will generate a code, which you should paste in the box below.</p>\n",
       "        "
      ],
      "text/plain": [
       "<IPython.core.display.HTML object>"
      ]
     },
     "metadata": {},
     "output_type": "display_data"
    },
    {
     "name": "stdout",
     "output_type": "stream",
     "text": [
      "Enter verification code: 4/1AWgavdftIor5F5b7THHJq3O7wFT4g7asej4pTAXcr2hCvFPq2WiqZW98R1Q\n",
      "\n",
      "Successfully saved authorization token.\n"
     ]
    }
   ],
   "source": [
    "#ee.Authenticate()"
   ]
  },
  {
   "cell_type": "code",
   "execution_count": 25,
   "id": "8ded554c",
   "metadata": {},
   "outputs": [],
   "source": [
    "# If it's for the first time, authentication is required before running this code\n",
    "# https://developers.google.com/earth-engine/guides/python_install-conda#windows_5\n",
    "ee.Initialize()"
   ]
  },
  {
   "cell_type": "code",
   "execution_count": 26,
   "id": "bf989627",
   "metadata": {},
   "outputs": [],
   "source": [
    "# earth engine location of the subsets of the 10km grid created separately in the script \"00_create_10_by_10_grid.R\"\n",
    "# 10km grid shapefile needs to be uploaded to assets in your GEE before running this line\n",
    "grid = ee.FeatureCollection(\"projects/ee-akawano/assets/grid_10km\")\n",
    "\n",
    "# google drive associated with your GEE account\n",
    "output_drive = \"s5p_HCHO_L3_10km\"\n",
    "timezone = \"utc\""
   ]
  },
  {
   "cell_type": "code",
   "execution_count": 27,
   "id": "ec05a0f8",
   "metadata": {},
   "outputs": [],
   "source": [
    "# Sentinel-5P OFFL HCHO: Offline Formaldehyde\n",
    "# https://developers.google.com/earth-engine/datasets/catalog/COPERNICUS_S5P_OFFL_L3_HCHO\n",
    "# 2018-12-05 to 2022-12-14\n",
    "maiac = ee.ImageCollection(\"COPERNICUS/S5P/OFFL/L3_HCHO\").select(\"tropospheric_HCHO_column_number_density\")\n",
    "maiac_proj = maiac.first().projection()\n",
    "pixel_res = maiac_proj.nominalScale().getInfo()"
   ]
  },
  {
   "cell_type": "code",
   "execution_count": 28,
   "id": "5ba3e5b4",
   "metadata": {},
   "outputs": [
    {
     "name": "stdout",
     "output_type": "stream",
     "text": [
      "['2018-12-05', '2019-03-05', '2019-06-05', '2019-09-05', '2019-12-05', '2020-03-05', '2020-06-05', '2020-09-05', '2020-12-05', '2021-03-05', '2021-06-05', '2021-09-05', '2021-12-05', '2022-03-05', '2022-06-05']\n",
      "['2019-02-01', '2019-05-01', '2019-08-01', '2019-11-01', '2020-02-01', '2020-05-01', '2020-08-01', '2020-11-01', '2021-02-01', '2021-05-01', '2021-08-01', '2021-11-01', '2022-02-01', '2022-05-01', '2022-08-01']\n"
     ]
    }
   ],
   "source": [
    "# set start_date and end_date\n",
    "start_date_1 = pd.to_datetime(\"2018-12-05\", format=\"%Y/%m/%d\")\n",
    "end_date_1 = pd.to_datetime(\"2022-08-01\", format=\"%Y/%m/%d\")\n",
    "\n",
    "# Initialize an empty list to store the date strings for the first list\n",
    "start_date_list = []\n",
    "\n",
    "# Loop through the dates for the first list, incrementing by 3 months each time\n",
    "while start_date_1 < end_date_1:\n",
    "    start_date_list.append(start_date_1.strftime(\"%Y-%m-%d\"))\n",
    "    \n",
    "    # Increment the start date by 3 months\n",
    "    start_date_1 += relativedelta(months=3)\n",
    "\n",
    "# Start and end dates for the second list\n",
    "start_date_2 = pd.to_datetime(\"2019-02-01\", format=\"%Y/%m/%d\")\n",
    "end_date_2 = pd.to_datetime(\"2022-11-01\", format=\"%Y/%m/%d\")\n",
    "\n",
    "# Initialize an empty list to store the date strings for the second list\n",
    "end_date_list = []\n",
    "\n",
    "# Loop through the dates for the second list, incrementing by 3 months each time\n",
    "while start_date_2 < end_date_2:\n",
    "    # Format the date as a string in the year-month-day format\n",
    "    end_date_list.append(start_date_2.strftime(\"%Y-%m-%d\"))\n",
    "    \n",
    "    # Increment the start date by 3 months\n",
    "    start_date_2 += relativedelta(months=3)\n",
    "\n",
    "# Print the lists of date strings\n",
    "print(start_date_list)\n",
    "print(end_date_list)"
   ]
  },
  {
   "cell_type": "code",
   "execution_count": 29,
   "id": "0e15f434",
   "metadata": {},
   "outputs": [],
   "source": [
    "# Calculate how many days between start and end days\n",
    "def calculate_length(start_date, end_date):\n",
    "    start_date = pd.to_datetime(start_date)\n",
    "    end_date = pd.to_datetime(end_date)\n",
    "    length_date = (end_date - start_date).days\n",
    "    return length_date"
   ]
  },
  {
   "cell_type": "code",
   "execution_count": 30,
   "id": "17d57641",
   "metadata": {},
   "outputs": [],
   "source": [
    "def create_image(start_date, length_date):\n",
    "    images_list = ee.List([])\n",
    "    for i in range(0, length_date):\n",
    "        # timezone is default utc in ee.Date.fromYMD\n",
    "        start_date = pd.to_datetime(start_date)\n",
    "        im_date = ee.Date.fromYMD(start_date.year, start_date.month, start_date.day).advance(i, 'day')\n",
    "        im_date_end = im_date.advance(1, 'day')\n",
    "        im = maiac.filterDate(im_date, im_date_end).reduce(ee.Reducer.mean())\n",
    "        im = ee.Image(im).set(\"start_date\", im_date.format(\"yMMdd\"))\n",
    "        images_list = images_list.add(im)\n",
    "    return ee.ImageCollection.fromImages(images_list)"
   ]
  },
  {
   "cell_type": "code",
   "execution_count": 31,
   "id": "c38ddad3",
   "metadata": {},
   "outputs": [],
   "source": [
    "# For each day, calculate average for each cell grid\n",
    "def process_image(start_date, end_date):\n",
    "    length_date = calculate_length(start_date, end_date)\n",
    "    maiac_images = create_image(start_date, length_date)\n",
    "    maiac_images_reduced = maiac_images.map(lambda daily_im: (\n",
    "        daily_im.reduceRegions(\n",
    "            collection = grid,\n",
    "            reducer = ee.Reducer.mean(),\n",
    "            crs = maiac_proj,\n",
    "            scale = pixel_res\n",
    "        ).map(lambda f: f.set(\"start_date\", daily_im.get(\"start_date\")))))\n",
    "    grid_maiac = ee.FeatureCollection(maiac_images_reduced).flatten()\n",
    "    return grid_maiac"
   ]
  },
  {
   "cell_type": "code",
   "execution_count": 32,
   "id": "fd36681c",
   "metadata": {},
   "outputs": [
    {
     "data": {
      "text/plain": [
       "['grid_id', 'mean', 'start_date']"
      ]
     },
     "execution_count": 32,
     "metadata": {},
     "output_type": "execute_result"
    }
   ],
   "source": [
    "# make a list of properties to export \n",
    "export_properties = [\"grid_id\", \"mean\", \"start_date\"]\n",
    "export_properties"
   ]
  },
  {
   "cell_type": "code",
   "execution_count": 10,
   "id": "bf3241c8",
   "metadata": {},
   "outputs": [
    {
     "name": "stdout",
     "output_type": "stream",
     "text": [
      "saving file as {'HCHO_10km_grid_2018-12-05_to_2019-02-01'}\n",
      "saving file as {'HCHO_10km_grid_2019-03-05_to_2019-05-01'}\n",
      "saving file as {'HCHO_10km_grid_2019-06-05_to_2019-08-01'}\n",
      "saving file as {'HCHO_10km_grid_2019-09-05_to_2019-11-01'}\n",
      "saving file as {'HCHO_10km_grid_2019-12-05_to_2020-02-01'}\n",
      "saving file as {'HCHO_10km_grid_2020-03-05_to_2020-05-01'}\n",
      "saving file as {'HCHO_10km_grid_2020-06-05_to_2020-08-01'}\n",
      "saving file as {'HCHO_10km_grid_2020-09-05_to_2020-11-01'}\n",
      "saving file as {'HCHO_10km_grid_2020-12-05_to_2021-02-01'}\n",
      "saving file as {'HCHO_10km_grid_2021-03-05_to_2021-05-01'}\n",
      "saving file as {'HCHO_10km_grid_2021-06-05_to_2021-08-01'}\n",
      "saving file as {'HCHO_10km_grid_2021-09-05_to_2021-11-01'}\n",
      "saving file as {'HCHO_10km_grid_2021-12-05_to_2022-02-01'}\n",
      "saving file as {'HCHO_10km_grid_2022-03-05_to_2022-05-01'}\n",
      "saving file as {'HCHO_10km_grid_2022-06-05_to_2022-08-01'}\n"
     ]
    }
   ],
   "source": [
    "# loop using start_date_list and end_date_list\n",
    "for start_date, end_date in zip(start_date_list, end_date_list):\n",
    "        grid_HCHO = process_image(start_date, end_date)\n",
    "        x = \"HCHO_10km_grid\"\n",
    "        y = start_date\n",
    "        t = \"to\"\n",
    "        z = end_date\n",
    "        output_name = \"_\".join([x, y, t, z])\n",
    "        aod_task = ee.batch.Export.table.toDrive(\n",
    "            collection = grid_HCHO,\n",
    "            folder = output_drive,\n",
    "            description = output_name,\n",
    "            fileFormat = \"CSV\",\n",
    "            selectors = export_properties)\n",
    "        print(f\"saving file as\", {output_name})\n",
    "        aod_task.start()"
   ]
  },
  {
   "cell_type": "code",
   "execution_count": 11,
   "id": "1c8bd550",
   "metadata": {},
   "outputs": [
    {
     "name": "stdout",
     "output_type": "stream",
     "text": [
      "saving file as {'HCHO_10km_grid_2022-08-01_to_2022-11-01'}\n"
     ]
    }
   ],
   "source": [
    "start_date = '2022-08-01'\n",
    "end_date = '2022-11-01'\n",
    "\n",
    "grid_HCHO = process_image(start_date, end_date)\n",
    "x = \"HCHO_10km_grid\"\n",
    "y = start_date\n",
    "t = \"to\"\n",
    "z = end_date\n",
    "output_name = \"_\".join([x, y, t, z])\n",
    "aod_task = ee.batch.Export.table.toDrive(\n",
    "    collection = grid_HCHO,\n",
    "    folder = output_drive,\n",
    "    description = output_name,\n",
    "    fileFormat = \"CSV\",\n",
    "    selectors = export_properties)\n",
    "print(f\"saving file as\", {output_name})\n",
    "aod_task.start()"
   ]
  },
  {
   "cell_type": "code",
   "execution_count": 21,
   "id": "2fc65ad4",
   "metadata": {},
   "outputs": [
    {
     "name": "stdout",
     "output_type": "stream",
     "text": [
      "saving file as {'HCHO_10km_grid_2021-06-05_to_2021-07-01'}\n"
     ]
    }
   ],
   "source": [
    "# Error: HCHO_10km_grid_2021-06-05_to_2021-08-01, HCHO_10km_grid_2022-06-05_to_2022-08-01\n",
    "start_date = '2021-06-05'\n",
    "end_date = '2021-07-01'\n",
    "\n",
    "grid_HCHO = process_image(start_date, end_date)\n",
    "x = \"HCHO_10km_grid\"\n",
    "y = start_date\n",
    "t = \"to\"\n",
    "z = end_date\n",
    "output_name = \"_\".join([x, y, t, z])\n",
    "aod_task = ee.batch.Export.table.toDrive(\n",
    "    collection = grid_HCHO,\n",
    "    folder = output_drive,\n",
    "    description = output_name,\n",
    "    fileFormat = \"CSV\",\n",
    "    selectors = export_properties)\n",
    "print(f\"saving file as\", {output_name})\n",
    "aod_task.start()"
   ]
  },
  {
   "cell_type": "code",
   "execution_count": 22,
   "id": "39bfc018",
   "metadata": {},
   "outputs": [
    {
     "name": "stdout",
     "output_type": "stream",
     "text": [
      "saving file as {'HCHO_10km_grid_2021-07-01_to_2021-08-01'}\n"
     ]
    }
   ],
   "source": [
    "# Error: HCHO_10km_grid_2021-06-05_to_2021-08-01, HCHO_10km_grid_2022-06-05_to_2022-08-01\n",
    "start_date = '2021-07-01'\n",
    "end_date = '2021-08-01'\n",
    "\n",
    "grid_HCHO = process_image(start_date, end_date)\n",
    "x = \"HCHO_10km_grid\"\n",
    "y = start_date\n",
    "t = \"to\"\n",
    "z = end_date\n",
    "output_name = \"_\".join([x, y, t, z])\n",
    "aod_task = ee.batch.Export.table.toDrive(\n",
    "    collection = grid_HCHO,\n",
    "    folder = output_drive,\n",
    "    description = output_name,\n",
    "    fileFormat = \"CSV\",\n",
    "    selectors = export_properties)\n",
    "print(f\"saving file as\", {output_name})\n",
    "aod_task.start()"
   ]
  },
  {
   "cell_type": "code",
   "execution_count": 23,
   "id": "b67cb0b1",
   "metadata": {},
   "outputs": [
    {
     "name": "stdout",
     "output_type": "stream",
     "text": [
      "saving file as {'HCHO_10km_grid_2022-06-05_to_2022-07-01'}\n"
     ]
    }
   ],
   "source": [
    "# Error: HCHO_10km_grid_2022-06-05_to_2022-08-01\n",
    "start_date = '2022-06-05'\n",
    "end_date = '2022-07-01'\n",
    "\n",
    "grid_HCHO = process_image(start_date, end_date)\n",
    "x = \"HCHO_10km_grid\"\n",
    "y = start_date\n",
    "t = \"to\"\n",
    "z = end_date\n",
    "output_name = \"_\".join([x, y, t, z])\n",
    "aod_task = ee.batch.Export.table.toDrive(\n",
    "    collection = grid_HCHO,\n",
    "    folder = output_drive,\n",
    "    description = output_name,\n",
    "    fileFormat = \"CSV\",\n",
    "    selectors = export_properties)\n",
    "print(f\"saving file as\", {output_name})\n",
    "aod_task.start()"
   ]
  },
  {
   "cell_type": "code",
   "execution_count": 24,
   "id": "86e398fe",
   "metadata": {},
   "outputs": [
    {
     "name": "stdout",
     "output_type": "stream",
     "text": [
      "saving file as {'HCHO_10km_grid_2022-07-01_to_2022-08-01'}\n"
     ]
    }
   ],
   "source": [
    "# Error: HCHO_10km_grid_2022-06-05_to_2022-08-01\n",
    "start_date = '2022-07-01'\n",
    "end_date = '2022-08-01'\n",
    "\n",
    "grid_HCHO = process_image(start_date, end_date)\n",
    "x = \"HCHO_10km_grid\"\n",
    "y = start_date\n",
    "t = \"to\"\n",
    "z = end_date\n",
    "output_name = \"_\".join([x, y, t, z])\n",
    "aod_task = ee.batch.Export.table.toDrive(\n",
    "    collection = grid_HCHO,\n",
    "    folder = output_drive,\n",
    "    description = output_name,\n",
    "    fileFormat = \"CSV\",\n",
    "    selectors = export_properties)\n",
    "print(f\"saving file as\", {output_name})\n",
    "aod_task.start()"
   ]
  },
  {
   "cell_type": "code",
   "execution_count": 33,
   "id": "3d2882f7",
   "metadata": {},
   "outputs": [
    {
     "name": "stdout",
     "output_type": "stream",
     "text": [
      "saving file as {'HCHO_10km_grid_2022-07-01_to_2022-07-15'}\n"
     ]
    }
   ],
   "source": [
    "# HCHO_10km_grid_2022-07-01_to_2022-08-01, HCHO_10km_grid_2021-07-01_to_2021-08-01\n",
    "start_date = '2022-07-01'\n",
    "end_date = '2022-07-15'\n",
    "\n",
    "grid_HCHO = process_image(start_date, end_date)\n",
    "x = \"HCHO_10km_grid\"\n",
    "y = start_date\n",
    "t = \"to\"\n",
    "z = end_date\n",
    "output_name = \"_\".join([x, y, t, z])\n",
    "aod_task = ee.batch.Export.table.toDrive(\n",
    "    collection = grid_HCHO,\n",
    "    folder = output_drive,\n",
    "    description = output_name,\n",
    "    fileFormat = \"CSV\",\n",
    "    selectors = export_properties)\n",
    "print(f\"saving file as\", {output_name})\n",
    "aod_task.start()"
   ]
  },
  {
   "cell_type": "code",
   "execution_count": 34,
   "id": "c04f7ada",
   "metadata": {},
   "outputs": [
    {
     "name": "stdout",
     "output_type": "stream",
     "text": [
      "saving file as {'HCHO_10km_grid_2022-07-15_to_2022-08-01'}\n"
     ]
    }
   ],
   "source": [
    "# HCHO_10km_grid_2022-07-01_to_2022-08-01, HCHO_10km_grid_2021-07-01_to_2021-08-01\n",
    "start_date = '2022-07-15'\n",
    "end_date = '2022-08-01'\n",
    "\n",
    "grid_HCHO = process_image(start_date, end_date)\n",
    "x = \"HCHO_10km_grid\"\n",
    "y = start_date\n",
    "t = \"to\"\n",
    "z = end_date\n",
    "output_name = \"_\".join([x, y, t, z])\n",
    "aod_task = ee.batch.Export.table.toDrive(\n",
    "    collection = grid_HCHO,\n",
    "    folder = output_drive,\n",
    "    description = output_name,\n",
    "    fileFormat = \"CSV\",\n",
    "    selectors = export_properties)\n",
    "print(f\"saving file as\", {output_name})\n",
    "aod_task.start()"
   ]
  },
  {
   "cell_type": "code",
   "execution_count": 35,
   "id": "0adfcb6d",
   "metadata": {},
   "outputs": [
    {
     "name": "stdout",
     "output_type": "stream",
     "text": [
      "saving file as {'HCHO_10km_grid_2021-07-01_to_2021-07-15'}\n"
     ]
    }
   ],
   "source": [
    "# HCHO_10km_grid_2022-07-01_to_2022-08-01, HCHO_10km_grid_2021-07-01_to_2021-08-01\n",
    "start_date = '2021-07-01'\n",
    "end_date = '2021-07-15'\n",
    "\n",
    "grid_HCHO = process_image(start_date, end_date)\n",
    "x = \"HCHO_10km_grid\"\n",
    "y = start_date\n",
    "t = \"to\"\n",
    "z = end_date\n",
    "output_name = \"_\".join([x, y, t, z])\n",
    "aod_task = ee.batch.Export.table.toDrive(\n",
    "    collection = grid_HCHO,\n",
    "    folder = output_drive,\n",
    "    description = output_name,\n",
    "    fileFormat = \"CSV\",\n",
    "    selectors = export_properties)\n",
    "print(f\"saving file as\", {output_name})\n",
    "aod_task.start()"
   ]
  },
  {
   "cell_type": "code",
   "execution_count": 36,
   "id": "cad875e2",
   "metadata": {},
   "outputs": [
    {
     "name": "stdout",
     "output_type": "stream",
     "text": [
      "saving file as {'HCHO_10km_grid_2021-07-15_to_2021-08-01'}\n"
     ]
    }
   ],
   "source": [
    "# HCHO_10km_grid_2022-07-01_to_2022-08-01, HCHO_10km_grid_2021-07-01_to_2021-08-01\n",
    "start_date = '2021-07-15'\n",
    "end_date = '2021-08-01'\n",
    "\n",
    "grid_HCHO = process_image(start_date, end_date)\n",
    "x = \"HCHO_10km_grid\"\n",
    "y = start_date\n",
    "t = \"to\"\n",
    "z = end_date\n",
    "output_name = \"_\".join([x, y, t, z])\n",
    "aod_task = ee.batch.Export.table.toDrive(\n",
    "    collection = grid_HCHO,\n",
    "    folder = output_drive,\n",
    "    description = output_name,\n",
    "    fileFormat = \"CSV\",\n",
    "    selectors = export_properties)\n",
    "print(f\"saving file as\", {output_name})\n",
    "aod_task.start()"
   ]
  },
  {
   "cell_type": "code",
   "execution_count": 37,
   "id": "6614af06",
   "metadata": {},
   "outputs": [
    {
     "name": "stdout",
     "output_type": "stream",
     "text": [
      "saving file as {'HCHO_10km_grid_2022-07-15_to_2022-07-22'}\n"
     ]
    }
   ],
   "source": [
    "# HCHO_10km_grid_2022-07-15_to_2022-08-01, HCHO_10km_grid_2021-07-15_to_2021-08-01\n",
    "start_date = '2022-07-15'\n",
    "end_date = '2022-07-22'\n",
    "\n",
    "grid_HCHO = process_image(start_date, end_date)\n",
    "x = \"HCHO_10km_grid\"\n",
    "y = start_date\n",
    "t = \"to\"\n",
    "z = end_date\n",
    "output_name = \"_\".join([x, y, t, z])\n",
    "aod_task = ee.batch.Export.table.toDrive(\n",
    "    collection = grid_HCHO,\n",
    "    folder = output_drive,\n",
    "    description = output_name,\n",
    "    fileFormat = \"CSV\",\n",
    "    selectors = export_properties)\n",
    "print(f\"saving file as\", {output_name})\n",
    "aod_task.start()"
   ]
  },
  {
   "cell_type": "code",
   "execution_count": 38,
   "id": "467c80c4",
   "metadata": {},
   "outputs": [
    {
     "name": "stdout",
     "output_type": "stream",
     "text": [
      "saving file as {'HCHO_10km_grid_2022-07-22_to_2022-08-01'}\n"
     ]
    }
   ],
   "source": [
    "# HCHO_10km_grid_2022-07-15_to_2022-08-01, HCHO_10km_grid_2021-07-15_to_2021-08-01\n",
    "start_date = '2022-07-22'\n",
    "end_date = '2022-08-01'\n",
    "\n",
    "grid_HCHO = process_image(start_date, end_date)\n",
    "x = \"HCHO_10km_grid\"\n",
    "y = start_date\n",
    "t = \"to\"\n",
    "z = end_date\n",
    "output_name = \"_\".join([x, y, t, z])\n",
    "aod_task = ee.batch.Export.table.toDrive(\n",
    "    collection = grid_HCHO,\n",
    "    folder = output_drive,\n",
    "    description = output_name,\n",
    "    fileFormat = \"CSV\",\n",
    "    selectors = export_properties)\n",
    "print(f\"saving file as\", {output_name})\n",
    "aod_task.start()"
   ]
  },
  {
   "cell_type": "code",
   "execution_count": 39,
   "id": "553c53c7",
   "metadata": {},
   "outputs": [
    {
     "name": "stdout",
     "output_type": "stream",
     "text": [
      "saving file as {'HCHO_10km_grid_2021-07-15_to_2021-07-22'}\n"
     ]
    }
   ],
   "source": [
    "# HCHO_10km_grid_2022-07-15_to_2022-08-01, HCHO_10km_grid_2021-07-15_to_2021-08-01\n",
    "start_date = '2021-07-15'\n",
    "end_date = '2021-07-22'\n",
    "\n",
    "grid_HCHO = process_image(start_date, end_date)\n",
    "x = \"HCHO_10km_grid\"\n",
    "y = start_date\n",
    "t = \"to\"\n",
    "z = end_date\n",
    "output_name = \"_\".join([x, y, t, z])\n",
    "aod_task = ee.batch.Export.table.toDrive(\n",
    "    collection = grid_HCHO,\n",
    "    folder = output_drive,\n",
    "    description = output_name,\n",
    "    fileFormat = \"CSV\",\n",
    "    selectors = export_properties)\n",
    "print(f\"saving file as\", {output_name})\n",
    "aod_task.start()"
   ]
  },
  {
   "cell_type": "code",
   "execution_count": 40,
   "id": "7773ca56",
   "metadata": {},
   "outputs": [
    {
     "name": "stdout",
     "output_type": "stream",
     "text": [
      "saving file as {'HCHO_10km_grid_2021-07-22_to_2021-08-01'}\n"
     ]
    }
   ],
   "source": [
    "# HCHO_10km_grid_2022-07-15_to_2022-08-01, HCHO_10km_grid_2021-07-15_to_2021-08-01\n",
    "start_date = '2021-07-22'\n",
    "end_date = '2021-08-01'\n",
    "\n",
    "grid_HCHO = process_image(start_date, end_date)\n",
    "x = \"HCHO_10km_grid\"\n",
    "y = start_date\n",
    "t = \"to\"\n",
    "z = end_date\n",
    "output_name = \"_\".join([x, y, t, z])\n",
    "aod_task = ee.batch.Export.table.toDrive(\n",
    "    collection = grid_HCHO,\n",
    "    folder = output_drive,\n",
    "    description = output_name,\n",
    "    fileFormat = \"CSV\",\n",
    "    selectors = export_properties)\n",
    "print(f\"saving file as\", {output_name})\n",
    "aod_task.start()"
   ]
  },
  {
   "cell_type": "code",
   "execution_count": 41,
   "id": "e5cf2722",
   "metadata": {},
   "outputs": [
    {
     "name": "stdout",
     "output_type": "stream",
     "text": [
      "saving file as {'HCHO_10km_grid_2022-07-15_to_2022-07-18'}\n"
     ]
    }
   ],
   "source": [
    "# HCHO_10km_grid_2022-07-15_to_2022-07-22, HCHO_10km_grid_2021-07-15_to_2021-07-22\n",
    "start_date = '2022-07-15'\n",
    "end_date = '2022-07-18'\n",
    "\n",
    "grid_HCHO = process_image(start_date, end_date)\n",
    "x = \"HCHO_10km_grid\"\n",
    "y = start_date\n",
    "t = \"to\"\n",
    "z = end_date\n",
    "output_name = \"_\".join([x, y, t, z])\n",
    "aod_task = ee.batch.Export.table.toDrive(\n",
    "    collection = grid_HCHO,\n",
    "    folder = output_drive,\n",
    "    description = output_name,\n",
    "    fileFormat = \"CSV\",\n",
    "    selectors = export_properties)\n",
    "print(f\"saving file as\", {output_name})\n",
    "aod_task.start()"
   ]
  },
  {
   "cell_type": "code",
   "execution_count": 42,
   "id": "f1f804ad",
   "metadata": {},
   "outputs": [
    {
     "name": "stdout",
     "output_type": "stream",
     "text": [
      "saving file as {'HCHO_10km_grid_2022-07-18_to_2022-07-22'}\n"
     ]
    }
   ],
   "source": [
    "# HCHO_10km_grid_2022-07-15_to_2022-07-22, HCHO_10km_grid_2021-07-15_to_2021-07-22\n",
    "start_date = '2022-07-18'\n",
    "end_date = '2022-07-22'\n",
    "\n",
    "grid_HCHO = process_image(start_date, end_date)\n",
    "x = \"HCHO_10km_grid\"\n",
    "y = start_date\n",
    "t = \"to\"\n",
    "z = end_date\n",
    "output_name = \"_\".join([x, y, t, z])\n",
    "aod_task = ee.batch.Export.table.toDrive(\n",
    "    collection = grid_HCHO,\n",
    "    folder = output_drive,\n",
    "    description = output_name,\n",
    "    fileFormat = \"CSV\",\n",
    "    selectors = export_properties)\n",
    "print(f\"saving file as\", {output_name})\n",
    "aod_task.start()"
   ]
  },
  {
   "cell_type": "code",
   "execution_count": 43,
   "id": "6fb05654",
   "metadata": {},
   "outputs": [
    {
     "name": "stdout",
     "output_type": "stream",
     "text": [
      "saving file as {'HCHO_10km_grid_2021-07-15_to_2021-07-18'}\n"
     ]
    }
   ],
   "source": [
    "# HCHO_10km_grid_2022-07-15_to_2022-07-22, HCHO_10km_grid_2021-07-15_to_2021-07-22\n",
    "start_date = '2021-07-15'\n",
    "end_date = '2021-07-18'\n",
    "\n",
    "grid_HCHO = process_image(start_date, end_date)\n",
    "x = \"HCHO_10km_grid\"\n",
    "y = start_date\n",
    "t = \"to\"\n",
    "z = end_date\n",
    "output_name = \"_\".join([x, y, t, z])\n",
    "aod_task = ee.batch.Export.table.toDrive(\n",
    "    collection = grid_HCHO,\n",
    "    folder = output_drive,\n",
    "    description = output_name,\n",
    "    fileFormat = \"CSV\",\n",
    "    selectors = export_properties)\n",
    "print(f\"saving file as\", {output_name})\n",
    "aod_task.start()"
   ]
  },
  {
   "cell_type": "code",
   "execution_count": 44,
   "id": "0a666e1a",
   "metadata": {},
   "outputs": [
    {
     "name": "stdout",
     "output_type": "stream",
     "text": [
      "saving file as {'HCHO_10km_grid_2021-07-18_to_2021-07-22'}\n"
     ]
    }
   ],
   "source": [
    "# HCHO_10km_grid_2022-07-15_to_2022-07-22, HCHO_10km_grid_2021-07-15_to_2021-07-22\n",
    "start_date = '2021-07-18'\n",
    "end_date = '2021-07-22'\n",
    "\n",
    "grid_HCHO = process_image(start_date, end_date)\n",
    "x = \"HCHO_10km_grid\"\n",
    "y = start_date\n",
    "t = \"to\"\n",
    "z = end_date\n",
    "output_name = \"_\".join([x, y, t, z])\n",
    "aod_task = ee.batch.Export.table.toDrive(\n",
    "    collection = grid_HCHO,\n",
    "    folder = output_drive,\n",
    "    description = output_name,\n",
    "    fileFormat = \"CSV\",\n",
    "    selectors = export_properties)\n",
    "print(f\"saving file as\", {output_name})\n",
    "aod_task.start()"
   ]
  },
  {
   "cell_type": "code",
   "execution_count": 45,
   "id": "cd255901",
   "metadata": {},
   "outputs": [
    {
     "name": "stdout",
     "output_type": "stream",
     "text": [
      "saving file as {'HCHO_10km_grid_2022-07-18_to_2022-07-20'}\n"
     ]
    }
   ],
   "source": [
    "# HCHO_10km_grid_2022-07-18_to_2022-07-22, HCHO_10km_grid_2021-07-15_to_2021-07-18\n",
    "start_date = '2022-07-18'\n",
    "end_date = '2022-07-20'\n",
    "\n",
    "grid_HCHO = process_image(start_date, end_date)\n",
    "x = \"HCHO_10km_grid\"\n",
    "y = start_date\n",
    "t = \"to\"\n",
    "z = end_date\n",
    "output_name = \"_\".join([x, y, t, z])\n",
    "aod_task = ee.batch.Export.table.toDrive(\n",
    "    collection = grid_HCHO,\n",
    "    folder = output_drive,\n",
    "    description = output_name,\n",
    "    fileFormat = \"CSV\",\n",
    "    selectors = export_properties)\n",
    "print(f\"saving file as\", {output_name})\n",
    "aod_task.start()"
   ]
  },
  {
   "cell_type": "code",
   "execution_count": 46,
   "id": "ef599e3f",
   "metadata": {},
   "outputs": [
    {
     "name": "stdout",
     "output_type": "stream",
     "text": [
      "saving file as {'HCHO_10km_grid_2022-07-20_to_2022-07-22'}\n"
     ]
    }
   ],
   "source": [
    "# HCHO_10km_grid_2022-07-18_to_2022-07-22, HCHO_10km_grid_2021-07-15_to_2021-07-18\n",
    "start_date = '2022-07-20'\n",
    "end_date = '2022-07-22'\n",
    "\n",
    "grid_HCHO = process_image(start_date, end_date)\n",
    "x = \"HCHO_10km_grid\"\n",
    "y = start_date\n",
    "t = \"to\"\n",
    "z = end_date\n",
    "output_name = \"_\".join([x, y, t, z])\n",
    "aod_task = ee.batch.Export.table.toDrive(\n",
    "    collection = grid_HCHO,\n",
    "    folder = output_drive,\n",
    "    description = output_name,\n",
    "    fileFormat = \"CSV\",\n",
    "    selectors = export_properties)\n",
    "print(f\"saving file as\", {output_name})\n",
    "aod_task.start()"
   ]
  },
  {
   "cell_type": "code",
   "execution_count": 47,
   "id": "e4de9329",
   "metadata": {},
   "outputs": [
    {
     "name": "stdout",
     "output_type": "stream",
     "text": [
      "saving file as {'HCHO_10km_grid_2021-07-15_to_2021-07-17'}\n"
     ]
    }
   ],
   "source": [
    "# HCHO_10km_grid_2022-07-18_to_2022-07-22, HCHO_10km_grid_2021-07-15_to_2021-07-18\n",
    "start_date = '2021-07-15'\n",
    "end_date = '2021-07-17'\n",
    "\n",
    "grid_HCHO = process_image(start_date, end_date)\n",
    "x = \"HCHO_10km_grid\"\n",
    "y = start_date\n",
    "t = \"to\"\n",
    "z = end_date\n",
    "output_name = \"_\".join([x, y, t, z])\n",
    "aod_task = ee.batch.Export.table.toDrive(\n",
    "    collection = grid_HCHO,\n",
    "    folder = output_drive,\n",
    "    description = output_name,\n",
    "    fileFormat = \"CSV\",\n",
    "    selectors = export_properties)\n",
    "print(f\"saving file as\", {output_name})\n",
    "aod_task.start()"
   ]
  },
  {
   "cell_type": "code",
   "execution_count": 48,
   "id": "59450655",
   "metadata": {},
   "outputs": [
    {
     "name": "stdout",
     "output_type": "stream",
     "text": [
      "saving file as {'HCHO_10km_grid_2021-07-16_to_2021-07-18'}\n"
     ]
    }
   ],
   "source": [
    "# HCHO_10km_grid_2022-07-18_to_2022-07-22, HCHO_10km_grid_2021-07-15_to_2021-07-18\n",
    "start_date = '2021-07-16'\n",
    "end_date = '2021-07-18'\n",
    "\n",
    "grid_HCHO = process_image(start_date, end_date)\n",
    "x = \"HCHO_10km_grid\"\n",
    "y = start_date\n",
    "t = \"to\"\n",
    "z = end_date\n",
    "output_name = \"_\".join([x, y, t, z])\n",
    "aod_task = ee.batch.Export.table.toDrive(\n",
    "    collection = grid_HCHO,\n",
    "    folder = output_drive,\n",
    "    description = output_name,\n",
    "    fileFormat = \"CSV\",\n",
    "    selectors = export_properties)\n",
    "print(f\"saving file as\", {output_name})\n",
    "aod_task.start()"
   ]
  },
  {
   "cell_type": "code",
   "execution_count": 50,
   "id": "f63fcaf2",
   "metadata": {},
   "outputs": [],
   "source": [
    "# HCHO_10km_grid_2022-07-18_to_2022-07-20, HCHO_10km_grid_2021-07-15_to_2021-07-17"
   ]
  },
  {
   "cell_type": "code",
   "execution_count": null,
   "id": "30289edc",
   "metadata": {},
   "outputs": [],
   "source": [
    "# if you want to cancel tasks:\n",
    "# https://code.earthengine.google.com/tasks"
   ]
  }
 ],
 "metadata": {
  "kernelspec": {
   "display_name": "Python [conda env:ee] *",
   "language": "python",
   "name": "conda-env-ee-py"
  },
  "language_info": {
   "codemirror_mode": {
    "name": "ipython",
    "version": 3
   },
   "file_extension": ".py",
   "mimetype": "text/x-python",
   "name": "python",
   "nbconvert_exporter": "python",
   "pygments_lexer": "ipython3",
   "version": "3.8.15"
  }
 },
 "nbformat": 4,
 "nbformat_minor": 5
}
