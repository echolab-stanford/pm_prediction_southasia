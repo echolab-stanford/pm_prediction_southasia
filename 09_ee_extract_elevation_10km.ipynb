{
 "cells": [
  {
   "cell_type": "code",
   "execution_count": 1,
   "id": "17d55333",
   "metadata": {},
   "outputs": [],
   "source": [
    "import ee\n",
    "import pandas as pd\n",
    "from datetime import datetime, timedelta\n",
    "from dateutil.relativedelta import relativedelta"
   ]
  },
  {
   "cell_type": "code",
   "execution_count": 2,
   "id": "8ded554c",
   "metadata": {},
   "outputs": [],
   "source": [
    "# If it's for the first time, authentication is required before running this code\n",
    "# https://developers.google.com/earth-engine/guides/python_install-conda#windows_5\n",
    "ee.Initialize()"
   ]
  },
  {
   "cell_type": "code",
   "execution_count": 3,
   "id": "bf989627",
   "metadata": {},
   "outputs": [],
   "source": [
    "# earth engine location of the subsets of the 10km grid created separately in the script \"00_create_10_by_10_grid.R\"\n",
    "# 10km grid shapefile needs to be uploaded to assets in your GEE before running this line\n",
    "grid = ee.FeatureCollection(\"projects/ee-akawano/assets/grid_10km\")\n",
    "\n",
    "# google drive associated with your GEE account\n",
    "output_drive = \"elevation_10km\"\n",
    "timezone = \"utc\""
   ]
  },
  {
   "cell_type": "code",
   "execution_count": 4,
   "id": "ec05a0f8",
   "metadata": {},
   "outputs": [],
   "source": [
    "# NASA SRTM Digital Elevation 30m, 2000\n",
    "# https://developers.google.com/earth-engine/datasets/catalog/USGS_SRTMGL1_003#bands\n",
    "\n",
    "maiac = ee.Image(\"USGS/SRTMGL1_003\").select(\"elevation\")\n",
    "maiac_proj = maiac.projection()\n",
    "pixel_res = maiac_proj.nominalScale().getInfo()"
   ]
  },
  {
   "cell_type": "code",
   "execution_count": 8,
   "id": "76c11ff7",
   "metadata": {},
   "outputs": [],
   "source": [
    "maiac_images = ee.ImageCollection(maiac)\n",
    "maiac_images_reduced = maiac_images.map(lambda daily_im: (\n",
    "        daily_im.reduceRegions(\n",
    "            collection = grid,\n",
    "            reducer = ee.Reducer.mean(),\n",
    "            crs = maiac_proj,\n",
    "            scale = pixel_res\n",
    "        )))\n",
    "grid_maiac = ee.FeatureCollection(maiac_images_reduced).flatten()"
   ]
  },
  {
   "cell_type": "code",
   "execution_count": 9,
   "id": "fd36681c",
   "metadata": {},
   "outputs": [
    {
     "data": {
      "text/plain": [
       "['grid_id', 'mean']"
      ]
     },
     "execution_count": 9,
     "metadata": {},
     "output_type": "execute_result"
    }
   ],
   "source": [
    "# make a list of properties to export \n",
    "export_properties = [\"grid_id\", \"mean\"]\n",
    "export_properties"
   ]
  },
  {
   "cell_type": "code",
   "execution_count": 10,
   "id": "bf3241c8",
   "metadata": {},
   "outputs": [
    {
     "name": "stdout",
     "output_type": "stream",
     "text": [
      "saving file as {'elevation_10km_2000'}\n"
     ]
    }
   ],
   "source": [
    "output_name = \"elevation_10km_2000\"\n",
    "elevation_task = ee.batch.Export.table.toDrive(\n",
    "        collection = grid_maiac,\n",
    "        folder = output_drive,\n",
    "        description = output_name,\n",
    "        fileFormat = \"CSV\",\n",
    "        selectors = export_properties)\n",
    "print(f\"saving file as\", {output_name})\n",
    "elevation_task.start()"
   ]
  },
  {
   "cell_type": "code",
   "execution_count": null,
   "id": "706f818e",
   "metadata": {},
   "outputs": [],
   "source": []
  }
 ],
 "metadata": {
  "kernelspec": {
   "display_name": "Python [conda env:ee] *",
   "language": "python",
   "name": "conda-env-ee-py"
  },
  "language_info": {
   "codemirror_mode": {
    "name": "ipython",
    "version": 3
   },
   "file_extension": ".py",
   "mimetype": "text/x-python",
   "name": "python",
   "nbconvert_exporter": "python",
   "pygments_lexer": "ipython3",
   "version": "3.8.15"
  }
 },
 "nbformat": 4,
 "nbformat_minor": 5
}
