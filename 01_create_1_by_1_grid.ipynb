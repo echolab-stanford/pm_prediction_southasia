{
 "cells": [
  {
   "cell_type": "code",
   "execution_count": 1,
   "id": "f35ac401",
   "metadata": {},
   "outputs": [],
   "source": [
    "import pandas as pd\n",
    "import geopandas as gpd\n",
    "import shapely\n",
    "from shapely.geometry.polygon import Polygon\n",
    "import numpy as np\n",
    "import pyproj\n",
    "import math"
   ]
  },
  {
   "cell_type": "code",
   "execution_count": null,
   "id": "1addffca",
   "metadata": {},
   "outputs": [],
   "source": [
    "#crs_utm = pyproj.CRS.from_proj4('+proj=utm +zone=42 +datum=WGS84 +units=m +no_defs +type=crs')"
   ]
  },
  {
   "cell_type": "code",
   "execution_count": null,
   "id": "7d3d324a",
   "metadata": {},
   "outputs": [],
   "source": [
    "# Read in the GeoJSON file\n",
    "zone = gpd.read_file('map.geojson')"
   ]
  },
  {
   "cell_type": "code",
   "execution_count": null,
   "id": "3dd76a95",
   "metadata": {},
   "outputs": [],
   "source": [
    "zone = zone.to_crs(epsg = 3857)\n",
    "zone"
   ]
  },
  {
   "cell_type": "code",
   "execution_count": null,
   "id": "79c1ab11",
   "metadata": {},
   "outputs": [],
   "source": [
    "xmin, ymin, xmax, ymax = zone.total_bounds\n",
    "xmin, ymin, xmax, ymax"
   ]
  },
  {
   "cell_type": "code",
   "execution_count": null,
   "id": "2f7af9be",
   "metadata": {},
   "outputs": [],
   "source": [
    "# Set the resolution for the grid (1km x 1km)\n",
    "res = 1000"
   ]
  },
  {
   "cell_type": "code",
   "execution_count": null,
   "id": "4ef8000e",
   "metadata": {},
   "outputs": [],
   "source": [
    "cols = list(np.arange(xmin, xmax + res, res))\n",
    "rows = list(np.arange(ymin, ymax + res, res))"
   ]
  },
  {
   "cell_type": "code",
   "execution_count": null,
   "id": "cf16d42f",
   "metadata": {},
   "outputs": [],
   "source": [
    "print(len(rows))\n",
    "len(cols)"
   ]
  },
  {
   "cell_type": "code",
   "execution_count": null,
   "id": "3c838f52",
   "metadata": {},
   "outputs": [],
   "source": [
    "polygons = []\n",
    "for x in cols[:-1]:\n",
    "    for y in rows[:-1]:\n",
    "        polygons.append(Polygon([(x,y), (x+res, y), (x+res, y+res), (x, y+res)]))"
   ]
  },
  {
   "cell_type": "code",
   "execution_count": null,
   "id": "505f1f29",
   "metadata": {},
   "outputs": [],
   "source": [
    "grid = gpd.GeoDataFrame({'geometry': polygons}, crs= 'EPSG:3857') "
   ]
  },
  {
   "cell_type": "code",
   "execution_count": null,
   "id": "7d8a5a9f",
   "metadata": {},
   "outputs": [],
   "source": [
    "grid.to_file(\"grid_output_3857.json\", driver=\"GeoJSON\")"
   ]
  },
  {
   "cell_type": "code",
   "execution_count": null,
   "id": "5d7d13d7",
   "metadata": {},
   "outputs": [],
   "source": [
    "# Read in the GeoJSON file\n",
    "#grid = gpd.read_file('grid_output.json')\n",
    "#grid"
   ]
  },
  {
   "cell_type": "code",
   "execution_count": null,
   "id": "defddaad",
   "metadata": {},
   "outputs": [],
   "source": [
    "# Add a buffer of 500m (half the cell size) around each cell\n",
    "grid['geometry'] = grid['geometry'].buffer(res/2)"
   ]
  },
  {
   "cell_type": "code",
   "execution_count": null,
   "id": "1c3cafd4",
   "metadata": {},
   "outputs": [],
   "source": [
    "# Add a grid ID column\n",
    "grid['grid_id'] = range(1, len(grid) + 1)"
   ]
  },
  {
   "cell_type": "code",
   "execution_count": null,
   "id": "7a4af180",
   "metadata": {},
   "outputs": [],
   "source": [
    "grid.to_file(\"grid_buffer_3857.json\", driver=\"GeoJSON\")"
   ]
  },
  {
   "cell_type": "code",
   "execution_count": 8,
   "id": "692b82a6",
   "metadata": {},
   "outputs": [],
   "source": [
    "# Read in the Geojson file\n",
    "grid = gpd.read_file('grid_buffer_3857.json')"
   ]
  },
  {
   "cell_type": "code",
   "execution_count": 9,
   "id": "1ac3eda9",
   "metadata": {},
   "outputs": [
    {
     "data": {
      "text/plain": [
       "17582265"
      ]
     },
     "execution_count": 9,
     "metadata": {},
     "output_type": "execute_result"
    }
   ],
   "source": [
    "grid.shape[0]"
   ]
  },
  {
   "cell_type": "code",
   "execution_count": 10,
   "id": "888f3ac2",
   "metadata": {},
   "outputs": [],
   "source": [
    "grid_1km_subset_1 = grid.iloc[:3000000, :]\n",
    "grid_1km_subset_2 = grid.iloc[3000000:6000000, :]\n",
    "grid_1km_subset_3 = grid.iloc[6000000:9000000, :]\n",
    "grid_1km_subset_4 = grid.iloc[9000000:12000000, :]\n",
    "grid_1km_subset_5 = grid.iloc[12000000:15000000, :]\n",
    "grid_1km_subset_6 = grid.iloc[15000000:17582266, :]"
   ]
  },
  {
   "cell_type": "code",
   "execution_count": null,
   "id": "55b5d9fb",
   "metadata": {},
   "outputs": [],
   "source": [
    "grid_1km_subset_1.to_file(\"grid_1km_subset_1.json\", driver=\"GeoJSON\")"
   ]
  },
  {
   "cell_type": "code",
   "execution_count": null,
   "id": "d48c6309",
   "metadata": {},
   "outputs": [],
   "source": [
    "grid_1km_subset_2.to_file(\"grid_1km_subset_2.json\", driver=\"GeoJSON\")"
   ]
  },
  {
   "cell_type": "code",
   "execution_count": null,
   "id": "4b876202",
   "metadata": {},
   "outputs": [],
   "source": [
    "grid_1km_subset_3.to_file(\"grid_1km_subset_3.json\", driver=\"GeoJSON\")"
   ]
  },
  {
   "cell_type": "code",
   "execution_count": null,
   "id": "5930a2b0",
   "metadata": {},
   "outputs": [],
   "source": [
    "grid_1km_subset_4.to_file(\"grid_1km_subset_4.json\", driver=\"GeoJSON\")"
   ]
  },
  {
   "cell_type": "code",
   "execution_count": null,
   "id": "603a6cbc",
   "metadata": {},
   "outputs": [],
   "source": [
    "grid_1km_subset_5.to_file(\"grid_1km_subset_5.json\", driver=\"GeoJSON\")"
   ]
  },
  {
   "cell_type": "code",
   "execution_count": 11,
   "id": "f25c2e0c",
   "metadata": {},
   "outputs": [
    {
     "name": "stderr",
     "output_type": "stream",
     "text": [
      "C:\\Users\\ayako\\anaconda3\\lib\\site-packages\\geopandas\\io\\file.py:299: FutureWarning: pandas.Int64Index is deprecated and will be removed from pandas in a future version. Use pandas.Index with the appropriate dtype instead.\n",
      "  pd.Int64Index,\n"
     ]
    }
   ],
   "source": [
    "grid_1km_subset_6.to_file(\"grid_1km_subset_6.json\", driver=\"GeoJSON\")"
   ]
  },
  {
   "cell_type": "code",
   "execution_count": null,
   "id": "2119b077",
   "metadata": {},
   "outputs": [],
   "source": [
    "grid_1km_subset_1 = grid_1km_subset_1.to_crs(epsg = 4326)"
   ]
  },
  {
   "cell_type": "code",
   "execution_count": null,
   "id": "41e14bd7",
   "metadata": {},
   "outputs": [],
   "source": [
    "grid_1km_subset_2 = grid_1km_subset_2.to_crs(epsg = 4326)"
   ]
  },
  {
   "cell_type": "code",
   "execution_count": null,
   "id": "87915d2f",
   "metadata": {},
   "outputs": [],
   "source": [
    "grid_1km_subset_3 = gpd.read_file('grid_1km_subset_3.json')"
   ]
  },
  {
   "cell_type": "code",
   "execution_count": null,
   "id": "e3820ed9",
   "metadata": {},
   "outputs": [],
   "source": [
    "grid_1km_subset_3 = grid_1km_subset_3.to_crs(epsg = 4326)"
   ]
  },
  {
   "cell_type": "code",
   "execution_count": 2,
   "id": "9e860029",
   "metadata": {},
   "outputs": [],
   "source": [
    "grid_1km_subset_4 = gpd.read_file('grid_1km_subset_4.json')"
   ]
  },
  {
   "cell_type": "code",
   "execution_count": 3,
   "id": "8da3fbd6",
   "metadata": {},
   "outputs": [],
   "source": [
    "grid_1km_subset_4 = grid_1km_subset_4.to_crs(epsg = 4326)"
   ]
  },
  {
   "cell_type": "code",
   "execution_count": 5,
   "id": "9d8107b0",
   "metadata": {},
   "outputs": [],
   "source": [
    "grid_1km_subset_5 = gpd.read_file('grid_1km_subset_5.json')"
   ]
  },
  {
   "cell_type": "code",
   "execution_count": 6,
   "id": "3f271450",
   "metadata": {},
   "outputs": [],
   "source": [
    "grid_1km_subset_5 = grid_1km_subset_5.to_crs(epsg = 4326)"
   ]
  },
  {
   "cell_type": "code",
   "execution_count": null,
   "id": "4784efd0",
   "metadata": {},
   "outputs": [],
   "source": [
    "grid_1km_subset_6 = gpd.read_file('grid_1km_subset_6.json')"
   ]
  },
  {
   "cell_type": "code",
   "execution_count": 12,
   "id": "28c9b7ee",
   "metadata": {},
   "outputs": [],
   "source": [
    "grid_1km_subset_6 = grid_1km_subset_6.to_crs(epsg = 4326)"
   ]
  },
  {
   "cell_type": "code",
   "execution_count": null,
   "id": "d54aaf31",
   "metadata": {
    "scrolled": true
   },
   "outputs": [],
   "source": [
    "grid_1km_subset_1.to_file(\"grid_1km_subset_1.shp\", driver='ESRI Shapefile')"
   ]
  },
  {
   "cell_type": "code",
   "execution_count": null,
   "id": "03a017a0",
   "metadata": {},
   "outputs": [],
   "source": [
    "grid_1km_subset_2.to_file(\"grid_1km_subset_2.shp\", driver='ESRI Shapefile')"
   ]
  },
  {
   "cell_type": "code",
   "execution_count": null,
   "id": "90fed75b",
   "metadata": {},
   "outputs": [],
   "source": [
    "grid_1km_subset_3.to_file(\"grid_1km_subset_3.shp\", driver='ESRI Shapefile')"
   ]
  },
  {
   "cell_type": "code",
   "execution_count": 4,
   "id": "ef477d70",
   "metadata": {},
   "outputs": [
    {
     "name": "stderr",
     "output_type": "stream",
     "text": [
      "C:\\Users\\ayako\\anaconda3\\lib\\site-packages\\geopandas\\io\\file.py:299: FutureWarning: pandas.Int64Index is deprecated and will be removed from pandas in a future version. Use pandas.Index with the appropriate dtype instead.\n",
      "  pd.Int64Index,\n"
     ]
    }
   ],
   "source": [
    "grid_1km_subset_4.to_file(\"grid_1km_subset_4.shp\", driver='ESRI Shapefile')"
   ]
  },
  {
   "cell_type": "code",
   "execution_count": 7,
   "id": "297e264a",
   "metadata": {},
   "outputs": [
    {
     "name": "stderr",
     "output_type": "stream",
     "text": [
      "C:\\Users\\ayako\\anaconda3\\lib\\site-packages\\geopandas\\io\\file.py:299: FutureWarning: pandas.Int64Index is deprecated and will be removed from pandas in a future version. Use pandas.Index with the appropriate dtype instead.\n",
      "  pd.Int64Index,\n"
     ]
    }
   ],
   "source": [
    "grid_1km_subset_5.to_file(\"grid_1km_subset_5.shp\", driver='ESRI Shapefile')"
   ]
  },
  {
   "cell_type": "code",
   "execution_count": 13,
   "id": "eda5dd87",
   "metadata": {},
   "outputs": [
    {
     "name": "stderr",
     "output_type": "stream",
     "text": [
      "C:\\Users\\ayako\\anaconda3\\lib\\site-packages\\geopandas\\io\\file.py:299: FutureWarning: pandas.Int64Index is deprecated and will be removed from pandas in a future version. Use pandas.Index with the appropriate dtype instead.\n",
      "  pd.Int64Index,\n"
     ]
    }
   ],
   "source": [
    "grid_1km_subset_6.to_file(\"grid_1km_subset_6.shp\", driver='ESRI Shapefile')"
   ]
  },
  {
   "cell_type": "code",
   "execution_count": null,
   "id": "4ffa1cc6",
   "metadata": {},
   "outputs": [],
   "source": []
  }
 ],
 "metadata": {
  "kernelspec": {
   "display_name": "Python 3 (ipykernel)",
   "language": "python",
   "name": "python3"
  },
  "language_info": {
   "codemirror_mode": {
    "name": "ipython",
    "version": 3
   },
   "file_extension": ".py",
   "mimetype": "text/x-python",
   "name": "python",
   "nbconvert_exporter": "python",
   "pygments_lexer": "ipython3",
   "version": "3.9.13"
  }
 },
 "nbformat": 4,
 "nbformat_minor": 5
}
