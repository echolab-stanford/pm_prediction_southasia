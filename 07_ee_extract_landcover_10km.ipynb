{
 "cells": [
  {
   "cell_type": "code",
   "execution_count": 1,
   "id": "17d55333",
   "metadata": {},
   "outputs": [],
   "source": [
    "import ee\n",
    "import pandas as pd\n",
    "from datetime import datetime, timedelta\n",
    "from dateutil.relativedelta import relativedelta"
   ]
  },
  {
   "cell_type": "code",
   "execution_count": 2,
   "id": "8ded554c",
   "metadata": {},
   "outputs": [],
   "source": [
    "# If it's for the first time, authentication is required before running this code\n",
    "# https://developers.google.com/earth-engine/guides/python_install-conda#windows_5\n",
    "ee.Initialize()"
   ]
  },
  {
   "cell_type": "code",
   "execution_count": 3,
   "id": "bf989627",
   "metadata": {},
   "outputs": [],
   "source": [
    "# earth engine location of the subsets of the 10km grid created separately in the script \"00_create_10_by_10_grid.R\"\n",
    "# 10km grid shapefile needs to be uploaded to assets in your GEE before running this line\n",
    "grid = ee.FeatureCollection(\"projects/ee-akawano/assets/grid_10km\")\n",
    "\n",
    "# google drive associated with your GEE account\n",
    "output_drive = \"landuse_10km\"\n",
    "timezone = \"utc\""
   ]
  },
  {
   "cell_type": "code",
   "execution_count": 4,
   "id": "ec05a0f8",
   "metadata": {},
   "outputs": [],
   "source": [
    "# MCD12Q1.006 MODIS Land Cover Type Yearly Global 500m\n",
    "# https://developers.google.com/earth-engine/datasets/catalog/MODIS_006_MCD12Q1\n",
    "\n",
    "maiac = ee.ImageCollection(\"MODIS/006/MCD12Q1\").select(\"LC_Type3\")\n",
    "maiac_proj = maiac.first().projection()\n",
    "pixel_res = maiac_proj.nominalScale().getInfo()"
   ]
  },
  {
   "cell_type": "code",
   "execution_count": 5,
   "id": "5ba3e5b4",
   "metadata": {},
   "outputs": [
    {
     "data": {
      "text/plain": [
       "['2018-01-01', '2019-01-01', '2020-01-01']"
      ]
     },
     "execution_count": 5,
     "metadata": {},
     "output_type": "execute_result"
    }
   ],
   "source": [
    "# set start_date list, end_date is optional in the filterDate function. \n",
    "# If not specified, a 1-millisecond range starting at 'start' is created.\n",
    "start_date_list = [\"2018-01-01\", \"2019-01-01\", \"2020-01-01\"]\n",
    "start_date_list"
   ]
  },
  {
   "cell_type": "code",
   "execution_count": 6,
   "id": "17d57641",
   "metadata": {},
   "outputs": [],
   "source": [
    "def create_image(start_date):\n",
    "    # timezone is default utc in ee.Date.fromYMD\n",
    "    # Urban and Built-up Lands: at least 30% impervious surface area including building materials, asphalt and vehicles.\n",
    "    # If Urban abd Build-up (value 10), assign 1, otherwise 0\n",
    "    im = maiac.filterDate(start_date).first().expression(\"(b('LC_Type3') == 10) ? 1 \"\n",
    "                                     \": 0\")\n",
    "    im = ee.Image(im).set(\"start_date\", start_date.format(\"yMMdd\"))\n",
    "    return ee.ImageCollection(im)"
   ]
  },
  {
   "cell_type": "code",
   "execution_count": 7,
   "id": "c38ddad3",
   "metadata": {},
   "outputs": [],
   "source": [
    "# For each day, calculate average for each cell grid\n",
    "def process_image(start_date):\n",
    "    maiac_images = create_image(start_date)\n",
    "    maiac_images_reduced = maiac_images.map(lambda daily_im: (\n",
    "        daily_im.reduceRegions(\n",
    "            collection = grid,\n",
    "            reducer = ee.Reducer.mean(),\n",
    "            crs = maiac_proj,\n",
    "            scale = pixel_res\n",
    "        ).map(lambda f: f.set(\"start_date\", daily_im.get(\"start_date\")))))\n",
    "    grid_maiac = ee.FeatureCollection(maiac_images_reduced).flatten()\n",
    "    return grid_maiac"
   ]
  },
  {
   "cell_type": "code",
   "execution_count": 8,
   "id": "fd36681c",
   "metadata": {},
   "outputs": [
    {
     "data": {
      "text/plain": [
       "['grid_id', 'mean', 'start_date']"
      ]
     },
     "execution_count": 8,
     "metadata": {},
     "output_type": "execute_result"
    }
   ],
   "source": [
    "# make a list of properties to export \n",
    "export_properties = [\"grid_id\", \"mean\", \"start_date\"]\n",
    "export_properties"
   ]
  },
  {
   "cell_type": "code",
   "execution_count": 9,
   "id": "bf3241c8",
   "metadata": {},
   "outputs": [
    {
     "name": "stdout",
     "output_type": "stream",
     "text": [
      "saving file as {'landuse_10km_2018-01-01'}\n",
      "saving file as {'landuse_10km_2019-01-01'}\n",
      "saving file as {'landuse_10km_2020-01-01'}\n"
     ]
    }
   ],
   "source": [
    "# loop using start_date_list and end_date_list\n",
    "for start_date in start_date_list:\n",
    "    grid_landuse = process_image(start_date)\n",
    "    x = \"landuse_10km\"\n",
    "    y = start_date\n",
    "    output_name = \"_\".join([x, y])\n",
    "    landuse_task = ee.batch.Export.table.toDrive(\n",
    "        collection = grid_landuse,\n",
    "        folder = output_drive,\n",
    "        description = output_name,\n",
    "        fileFormat = \"CSV\",\n",
    "        selectors = export_properties)\n",
    "    print(f\"saving file as\", {output_name})\n",
    "    landuse_task.start()"
   ]
  },
  {
   "cell_type": "code",
   "execution_count": null,
   "id": "30289edc",
   "metadata": {},
   "outputs": [],
   "source": [
    "# if you want to cancel tasks:\n",
    "# https://code.earthengine.google.com/tasks"
   ]
  }
 ],
 "metadata": {
  "kernelspec": {
   "display_name": "Python [conda env:ee] *",
   "language": "python",
   "name": "conda-env-ee-py"
  },
  "language_info": {
   "codemirror_mode": {
    "name": "ipython",
    "version": 3
   },
   "file_extension": ".py",
   "mimetype": "text/x-python",
   "name": "python",
   "nbconvert_exporter": "python",
   "pygments_lexer": "ipython3",
   "version": "3.8.15"
  }
 },
 "nbformat": 4,
 "nbformat_minor": 5
}
