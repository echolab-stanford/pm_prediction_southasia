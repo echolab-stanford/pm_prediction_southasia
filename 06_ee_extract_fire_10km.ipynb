{
 "cells": [
  {
   "cell_type": "code",
   "execution_count": 1,
   "id": "17d55333",
   "metadata": {},
   "outputs": [],
   "source": [
    "import ee\n",
    "import pandas as pd\n",
    "from datetime import datetime, timedelta\n",
    "from dateutil.relativedelta import relativedelta"
   ]
  },
  {
   "cell_type": "code",
   "execution_count": 10,
   "id": "8ded554c",
   "metadata": {},
   "outputs": [],
   "source": [
    "# If it's for the first time, authentication is required before running this code\n",
    "# https://developers.google.com/earth-engine/guides/python_install-conda#windows_5\n",
    "ee.Initialize()"
   ]
  },
  {
   "cell_type": "code",
   "execution_count": 11,
   "id": "bf989627",
   "metadata": {},
   "outputs": [],
   "source": [
    "# earth engine location of the subsets of the 10km grid created separately in the script \"00_create_10_by_10_grid.R\"\n",
    "# 10km grid shapefile needs to be uploaded to assets in your GEE before running this line\n",
    "grid = ee.FeatureCollection(\"projects/ee-akawano/assets/grid_10km\")\n",
    "\n",
    "# google drive associated with your GEE account\n",
    "output_drive = \"fire_10km\"\n",
    "timezone = \"utc\""
   ]
  },
  {
   "cell_type": "code",
   "execution_count": 44,
   "id": "ec05a0f8",
   "metadata": {},
   "outputs": [],
   "source": [
    "# MOD14A1.061: Terra Thermal Anomalies & Fire Daily Global 1km\n",
    "# https://developers.google.com/earth-engine/datasets/catalog/MODIS_061_MOD14A1#bands\n",
    "\n",
    "maiac = ee.ImageCollection(\"MODIS/061/MOD14A1\").select(\"MaxFRP\")\n",
    "maiac_proj = maiac.first().projection()\n",
    "pixel_res = maiac_proj.nominalScale().getInfo()"
   ]
  },
  {
   "cell_type": "code",
   "execution_count": 33,
   "id": "5ba3e5b4",
   "metadata": {},
   "outputs": [
    {
     "name": "stdout",
     "output_type": "stream",
     "text": [
      "['2018-04-01', '2018-07-01', '2018-10-01', '2019-01-01', '2019-04-01', '2019-07-01', '2019-10-01', '2020-01-01', '2020-04-01', '2020-07-01', '2020-10-01', '2021-01-01', '2021-04-01', '2021-07-01', '2021-10-01', '2022-01-01', '2022-04-01', '2022-07-01']\n",
      "['2018-07-01', '2018-10-01', '2019-01-01', '2019-04-01', '2019-07-01', '2019-10-01', '2020-01-01', '2020-04-01', '2020-07-01', '2020-10-01', '2021-01-01', '2021-04-01', '2021-07-01', '2021-10-01', '2022-01-01', '2022-04-01', '2022-07-01', '2022-10-01']\n"
     ]
    }
   ],
   "source": [
    "# set start_date and end_date every 3 months\n",
    "start_date_1 = pd.to_datetime(\"2018-04-01\", format=\"%Y/%m/%d\")\n",
    "end_date_1 = pd.to_datetime(\"2022-08-01\", format=\"%Y/%m/%d\")\n",
    "\n",
    "# Initialize an empty list to store the date strings for the first list\n",
    "start_date_list = []\n",
    "\n",
    "# Loop through the dates for the first list, incrementing by 3 months each time\n",
    "while start_date_1 < end_date_1:\n",
    "    start_date_list.append(start_date_1.strftime(\"%Y-%m-%d\"))\n",
    "    \n",
    "    # Increment the start date by 3 months\n",
    "    start_date_1 += relativedelta(months=3)\n",
    "\n",
    "# Start and end dates for the second list\n",
    "start_date_2 = pd.to_datetime(\"2018-07-01\", format=\"%Y/%m/%d\")\n",
    "end_date_2 = pd.to_datetime(\"2022-11-01\", format=\"%Y/%m/%d\")\n",
    "\n",
    "# Initialize an empty list to store the date strings for the second list\n",
    "end_date_list = []\n",
    "\n",
    "# Loop through the dates for the second list, incrementing by 3 months each time\n",
    "while start_date_2 < end_date_2:\n",
    "    # Format the date as a string in the year-month-day format\n",
    "    end_date_list.append(start_date_2.strftime(\"%Y-%m-%d\"))\n",
    "    \n",
    "    # Increment the start date by 3 months\n",
    "    start_date_2 += relativedelta(months=3)\n",
    "\n",
    "# Print the lists of date strings\n",
    "print(start_date_list)\n",
    "print(end_date_list)"
   ]
  },
  {
   "cell_type": "code",
   "execution_count": 106,
   "id": "0e15f434",
   "metadata": {},
   "outputs": [],
   "source": [
    "# Calculate how many days between start and end days\n",
    "def calculate_length(start_date, end_date):\n",
    "    start_date = pd.to_datetime(start_date)\n",
    "    end_date = pd.to_datetime(end_date)\n",
    "    length_date = (end_date - start_date).days\n",
    "    return length_date"
   ]
  },
  {
   "cell_type": "code",
   "execution_count": 107,
   "id": "17d57641",
   "metadata": {},
   "outputs": [],
   "source": [
    "def create_image(start_date, length_date):\n",
    "    images_list = ee.List([])\n",
    "    for i in range(0, length_date):\n",
    "        # timezone is default utc in ee.Date.fromYMD\n",
    "        start_date = pd.to_datetime(start_date)\n",
    "        im_date = ee.Date.fromYMD(start_date.year, start_date.month, start_date.day).advance(i, 'day')\n",
    "        im_date_end = im_date.advance(1, 'day')\n",
    "        im = maiac.filterDate(im_date, im_date_end).reduce(ee.Reducer.mean())\n",
    "        im = ee.Image(im).set(\"start_date\", im_date.format(\"yMMdd\"))\n",
    "        images_list = images_list.add(im)\n",
    "    return ee.ImageCollection.fromImages(images_list)"
   ]
  },
  {
   "cell_type": "code",
   "execution_count": 108,
   "id": "c38ddad3",
   "metadata": {},
   "outputs": [],
   "source": [
    "# For each day, calculate average for each cell grid\n",
    "def process_image(start_date, end_date):\n",
    "    length_date = calculate_length(start_date, end_date)\n",
    "    maiac_images = create_image(start_date, length_date)\n",
    "    maiac_images_reduced = maiac_images.map(lambda daily_im: (\n",
    "        daily_im.reduceRegions(\n",
    "            collection = grid,\n",
    "            reducer = ee.Reducer.mean(),\n",
    "            crs = maiac_proj,\n",
    "            scale = pixel_res\n",
    "        ).map(lambda f: f.set(\"start_date\", daily_im.get(\"start_date\")))))\n",
    "    grid_maiac = ee.FeatureCollection(maiac_images_reduced).flatten()\n",
    "    return grid_maiac"
   ]
  },
  {
   "cell_type": "code",
   "execution_count": 111,
   "id": "fd36681c",
   "metadata": {},
   "outputs": [
    {
     "data": {
      "text/plain": [
       "['grid_id', 'MaxFRP_mean', 'start_date']"
      ]
     },
     "execution_count": 111,
     "metadata": {},
     "output_type": "execute_result"
    }
   ],
   "source": [
    "# make a list of properties to export \n",
    "export_properties = [\"grid_id\", \"MaxFRP_mean\", \"start_date\"]\n",
    "export_properties"
   ]
  },
  {
   "cell_type": "code",
   "execution_count": 110,
   "id": "82aa9c1a",
   "metadata": {},
   "outputs": [
    {
     "name": "stdout",
     "output_type": "stream",
     "text": [
      "saving file as {'fire_10km_2020-04-01_to_2020-04-03'}\n"
     ]
    }
   ],
   "source": [
    "# test\n",
    "start_date = \"2020-04-01\"\n",
    "end_date = \"2020-04-03\"\n",
    "\n",
    "grid_fire = process_image(start_date, end_date)\n",
    "x = \"fire_10km\"\n",
    "y = start_date\n",
    "t = \"to\"\n",
    "z = end_date\n",
    "output_name = \"_\".join([x, y, t, z])\n",
    "fire_task = ee.batch.Export.table.toDrive(\n",
    "    collection = grid_fire,\n",
    "    folder = output_drive,\n",
    "    description = output_name,\n",
    "    fileFormat = \"CSV\",\n",
    "    selectors = export_properties)\n",
    "print(f\"saving file as\", {output_name})\n",
    "fire_task.start()"
   ]
  },
  {
   "cell_type": "code",
   "execution_count": null,
   "id": "9e12d7d5",
   "metadata": {},
   "outputs": [],
   "source": []
  },
  {
   "cell_type": "code",
   "execution_count": null,
   "id": "06612f46",
   "metadata": {},
   "outputs": [],
   "source": []
  },
  {
   "cell_type": "code",
   "execution_count": 10,
   "id": "bf3241c8",
   "metadata": {},
   "outputs": [
    {
     "name": "stdout",
     "output_type": "stream",
     "text": [
      "saving file as {'aod_10km_grid_green_band_055_2018-04-01_to_2018-07-01'}\n",
      "saving file as {'aod_10km_grid_green_band_055_2018-07-01_to_2018-10-01'}\n",
      "saving file as {'aod_10km_grid_green_band_055_2018-10-01_to_2019-01-01'}\n",
      "saving file as {'aod_10km_grid_green_band_055_2019-01-01_to_2019-04-01'}\n",
      "saving file as {'aod_10km_grid_green_band_055_2019-04-01_to_2019-07-01'}\n",
      "saving file as {'aod_10km_grid_green_band_055_2019-07-01_to_2019-10-01'}\n",
      "saving file as {'aod_10km_grid_green_band_055_2019-10-01_to_2020-01-01'}\n",
      "saving file as {'aod_10km_grid_green_band_055_2020-01-01_to_2020-04-01'}\n",
      "saving file as {'aod_10km_grid_green_band_055_2020-04-01_to_2020-07-01'}\n",
      "saving file as {'aod_10km_grid_green_band_055_2020-07-01_to_2020-10-01'}\n",
      "saving file as {'aod_10km_grid_green_band_055_2020-10-01_to_2021-01-01'}\n",
      "saving file as {'aod_10km_grid_green_band_055_2021-01-01_to_2021-04-01'}\n",
      "saving file as {'aod_10km_grid_green_band_055_2021-04-01_to_2021-07-01'}\n",
      "saving file as {'aod_10km_grid_green_band_055_2021-07-01_to_2021-10-01'}\n",
      "saving file as {'aod_10km_grid_green_band_055_2021-10-01_to_2022-01-01'}\n",
      "saving file as {'aod_10km_grid_green_band_055_2022-01-01_to_2022-04-01'}\n",
      "saving file as {'aod_10km_grid_green_band_055_2022-04-01_to_2022-07-01'}\n",
      "saving file as {'aod_10km_grid_green_band_055_2022-07-01_to_2022-10-01'}\n"
     ]
    }
   ],
   "source": [
    "# loop using start_date_list and end_date_list\n",
    "for start_date, end_date in zip(start_date_list, end_date_list):\n",
    "        grid_aod = process_image(start_date, end_date)\n",
    "        x = \"aod_10km_grid_green_band_055\"\n",
    "        y = start_date\n",
    "        t = \"to\"\n",
    "        z = end_date\n",
    "        output_name = \"_\".join([x, y, t, z])\n",
    "        aod_task = ee.batch.Export.table.toDrive(\n",
    "            collection = grid_aod,\n",
    "            folder = output_drive,\n",
    "            description = output_name,\n",
    "            fileFormat = \"CSV\",\n",
    "            selectors = export_properties)\n",
    "        print(f\"saving file as\", {output_name})\n",
    "        aod_task.start()"
   ]
  },
  {
   "cell_type": "code",
   "execution_count": null,
   "id": "2fc65ad4",
   "metadata": {},
   "outputs": [],
   "source": [
    "# Error: aod_10km_grid_green_band_055_2021-10-01_to_2022-01-01\n",
    "# aod_10km_grid_green_band_055_2022-07-01_to_2022-10-01"
   ]
  },
  {
   "cell_type": "code",
   "execution_count": 15,
   "id": "2b70921c",
   "metadata": {},
   "outputs": [
    {
     "name": "stdout",
     "output_type": "stream",
     "text": [
      "['2022-07-01', '2022-08-01', '2022-09-01']\n",
      "['2022-08-01', '2022-09-01', '2022-10-01']\n"
     ]
    }
   ],
   "source": [
    "start_date_3 = pd.to_datetime(\"2022-07-01\", format=\"%Y/%m/%d\")\n",
    "end_date_3 = pd.to_datetime(\"2022-10-01\", format=\"%Y/%m/%d\")\n",
    "\n",
    "# Initialize an empty list to store the date strings for the first list\n",
    "start_date_list = []\n",
    "\n",
    "# Loop through the dates for the first list, incrementing by 3 months each time\n",
    "while start_date_3 < end_date_3:\n",
    "    start_date_list.append(start_date_3.strftime(\"%Y-%m-%d\"))\n",
    "    \n",
    "    # Increment the start date by 3 months\n",
    "    start_date_3 += relativedelta(months=1)\n",
    "\n",
    "# Start and end dates for the second list\n",
    "start_date_4 = pd.to_datetime(\"2022-08-01\", format=\"%Y/%m/%d\")\n",
    "end_date_4 = pd.to_datetime(\"2022-11-01\", format=\"%Y/%m/%d\")\n",
    "\n",
    "# Initialize an empty list to store the date strings for the second list\n",
    "end_date_list = []\n",
    "\n",
    "# Loop through the dates for the second list, incrementing by 3 months each time\n",
    "while start_date_4 < end_date_4:\n",
    "    # Format the date as a string in the year-month-day format\n",
    "    end_date_list.append(start_date_4.strftime(\"%Y-%m-%d\"))\n",
    "    \n",
    "    # Increment the start date by 3 months\n",
    "    start_date_4 += relativedelta(months=1)\n",
    "\n",
    "# Print the lists of date strings\n",
    "print(start_date_list)\n",
    "print(end_date_list)"
   ]
  },
  {
   "cell_type": "code",
   "execution_count": 16,
   "id": "c3042761",
   "metadata": {},
   "outputs": [
    {
     "name": "stdout",
     "output_type": "stream",
     "text": [
      "saving file as {'aod_10km_grid_green_band_055_2022-07-01_to_2022-08-01'}\n",
      "saving file as {'aod_10km_grid_green_band_055_2022-08-01_to_2022-09-01'}\n",
      "saving file as {'aod_10km_grid_green_band_055_2022-09-01_to_2022-10-01'}\n"
     ]
    }
   ],
   "source": [
    "# loop using start_date_list and end_date_list\n",
    "for start_date, end_date in zip(start_date_list, end_date_list):\n",
    "        grid_aod = process_image(start_date, end_date)\n",
    "        x = \"aod_10km_grid_green_band_055\"\n",
    "        y = start_date\n",
    "        t = \"to\"\n",
    "        z = end_date\n",
    "        output_name = \"_\".join([x, y, t, z])\n",
    "        aod_task = ee.batch.Export.table.toDrive(\n",
    "            collection = grid_aod,\n",
    "            folder = output_drive,\n",
    "            description = output_name,\n",
    "            fileFormat = \"CSV\",\n",
    "            selectors = export_properties)\n",
    "        print(f\"saving file as\", {output_name})\n",
    "        aod_task.start()"
   ]
  },
  {
   "cell_type": "code",
   "execution_count": 12,
   "id": "e0f0f225",
   "metadata": {},
   "outputs": [
    {
     "name": "stdout",
     "output_type": "stream",
     "text": [
      "['2021-10-01', '2021-11-01', '2021-12-01']\n",
      "['2021-11-01', '2021-12-01', '2022-01-01']\n"
     ]
    }
   ],
   "source": [
    "start_date_3 = pd.to_datetime(\"2021-10-01\", format=\"%Y/%m/%d\")\n",
    "end_date_3 = pd.to_datetime(\"2022-01-01\", format=\"%Y/%m/%d\")\n",
    "\n",
    "# Initialize an empty list to store the date strings for the first list\n",
    "start_date_list = []\n",
    "\n",
    "# Loop through the dates for the first list, incrementing by 3 months each time\n",
    "while start_date_3 < end_date_3:\n",
    "    start_date_list.append(start_date_3.strftime(\"%Y-%m-%d\"))\n",
    "    \n",
    "    # Increment the start date by 3 months\n",
    "    start_date_3 += relativedelta(months=1)\n",
    "\n",
    "# Start and end dates for the second list\n",
    "start_date_4 = pd.to_datetime(\"2021-11-01\", format=\"%Y/%m/%d\")\n",
    "end_date_4 = pd.to_datetime(\"2022-02-01\", format=\"%Y/%m/%d\")\n",
    "\n",
    "# Initialize an empty list to store the date strings for the second list\n",
    "end_date_list = []\n",
    "\n",
    "# Loop through the dates for the second list, incrementing by 3 months each time\n",
    "while start_date_4 < end_date_4:\n",
    "    # Format the date as a string in the year-month-day format\n",
    "    end_date_list.append(start_date_4.strftime(\"%Y-%m-%d\"))\n",
    "        \n",
    "    # Increment the start date by 3 months\n",
    "    start_date_4 += relativedelta(months=1)\n",
    "\n",
    "# Print the lists of date strings\n",
    "print(start_date_list)\n",
    "print(end_date_list)"
   ]
  },
  {
   "cell_type": "code",
   "execution_count": 13,
   "id": "151fd162",
   "metadata": {},
   "outputs": [
    {
     "name": "stdout",
     "output_type": "stream",
     "text": [
      "saving file as {'aod_10km_grid_green_band_055_2021-10-01_to_2021-11-01'}\n",
      "saving file as {'aod_10km_grid_green_band_055_2021-11-01_to_2021-12-01'}\n",
      "saving file as {'aod_10km_grid_green_band_055_2021-12-01_to_2022-01-01'}\n"
     ]
    }
   ],
   "source": [
    "# loop using start_date_list and end_date_list\n",
    "for start_date, end_date in zip(start_date_list, end_date_list):\n",
    "        grid_aod = process_image(start_date, end_date)\n",
    "        x = \"aod_10km_grid_green_band_055\"\n",
    "        y = start_date\n",
    "        t = \"to\"\n",
    "        z = end_date\n",
    "        output_name = \"_\".join([x, y, t, z])\n",
    "        aod_task = ee.batch.Export.table.toDrive(\n",
    "            collection = grid_aod,\n",
    "            folder = output_drive,\n",
    "            description = output_name,\n",
    "            fileFormat = \"CSV\",\n",
    "            selectors = export_properties)\n",
    "        print(f\"saving file as\", {output_name})\n",
    "        aod_task.start()"
   ]
  },
  {
   "cell_type": "code",
   "execution_count": 22,
   "id": "ab8bb019",
   "metadata": {},
   "outputs": [
    {
     "name": "stdout",
     "output_type": "stream",
     "text": [
      "saving file as {'aod_10km_grid_green_band_055_2022-07-01_to_2022-07-15'}\n"
     ]
    }
   ],
   "source": [
    "#Error aod_10km_grid_green_band_055_2022-07-01_to_2022-08-01\n",
    "start_date = \"2022-07-01\"\n",
    "end_date = \"2022-07-15\"\n",
    "\n",
    "grid_aod = process_image(start_date, end_date)\n",
    "x = \"aod_10km_grid_green_band_055\"\n",
    "y = start_date\n",
    "t = \"to\"\n",
    "z = end_date\n",
    "output_name = \"_\".join([x, y, t, z])\n",
    "aod_task = ee.batch.Export.table.toDrive(\n",
    "    collection = grid_aod,\n",
    "    folder = output_drive,\n",
    "    description = output_name,\n",
    "    fileFormat = \"CSV\",\n",
    "    selectors = export_properties)\n",
    "print(f\"saving file as\", {output_name})\n",
    "aod_task.start()"
   ]
  },
  {
   "cell_type": "code",
   "execution_count": 23,
   "id": "95ca8bd6",
   "metadata": {},
   "outputs": [
    {
     "name": "stdout",
     "output_type": "stream",
     "text": [
      "saving file as {'aod_10km_grid_green_band_055_2022-07-15_to_2022-08-01'}\n"
     ]
    }
   ],
   "source": [
    "#Error aod_10km_grid_green_band_055_2022-07-01_to_2022-08-01\n",
    "start_date = \"2022-07-15\"\n",
    "end_date = \"2022-08-01\"\n",
    "\n",
    "grid_aod = process_image(start_date, end_date)\n",
    "x = \"aod_10km_grid_green_band_055\"\n",
    "y = start_date\n",
    "t = \"to\"\n",
    "z = end_date\n",
    "output_name = \"_\".join([x, y, t, z])\n",
    "aod_task = ee.batch.Export.table.toDrive(\n",
    "    collection = grid_aod,\n",
    "    folder = output_drive,\n",
    "    description = output_name,\n",
    "    fileFormat = \"CSV\",\n",
    "    selectors = export_properties)\n",
    "print(f\"saving file as\", {output_name})\n",
    "aod_task.start()"
   ]
  },
  {
   "cell_type": "code",
   "execution_count": 24,
   "id": "98e10830",
   "metadata": {},
   "outputs": [
    {
     "name": "stdout",
     "output_type": "stream",
     "text": [
      "saving file as {'aod_10km_grid_green_band_055_2021-10-01_to_2021-10-15'}\n"
     ]
    }
   ],
   "source": [
    "# Error aod_10km_grid_green_band_055_2021-10-01_to_2021-11-01\n",
    "start_date = \"2021-10-01\"\n",
    "end_date = \"2021-10-15\"\n",
    "\n",
    "grid_aod = process_image(start_date, end_date)\n",
    "x = \"aod_10km_grid_green_band_055\"\n",
    "y = start_date\n",
    "t = \"to\"\n",
    "z = end_date\n",
    "output_name = \"_\".join([x, y, t, z])\n",
    "aod_task = ee.batch.Export.table.toDrive(\n",
    "    collection = grid_aod,\n",
    "    folder = output_drive,\n",
    "    description = output_name,\n",
    "    fileFormat = \"CSV\",\n",
    "    selectors = export_properties)\n",
    "print(f\"saving file as\", {output_name})\n",
    "aod_task.start()"
   ]
  },
  {
   "cell_type": "code",
   "execution_count": 25,
   "id": "cc271e17",
   "metadata": {},
   "outputs": [
    {
     "name": "stdout",
     "output_type": "stream",
     "text": [
      "saving file as {'aod_10km_grid_green_band_055_2021-10-15_to_2021-11-01'}\n"
     ]
    }
   ],
   "source": [
    "start_date = \"2021-10-15\"\n",
    "end_date = \"2021-11-01\"\n",
    "\n",
    "grid_aod = process_image(start_date, end_date)\n",
    "x = \"aod_10km_grid_green_band_055\"\n",
    "y = start_date\n",
    "t = \"to\"\n",
    "z = end_date\n",
    "output_name = \"_\".join([x, y, t, z])\n",
    "aod_task = ee.batch.Export.table.toDrive(\n",
    "    collection = grid_aod,\n",
    "    folder = output_drive,\n",
    "    description = output_name,\n",
    "    fileFormat = \"CSV\",\n",
    "    selectors = export_properties)\n",
    "print(f\"saving file as\", {output_name})\n",
    "aod_task.start()"
   ]
  },
  {
   "cell_type": "code",
   "execution_count": 26,
   "id": "d8e85693",
   "metadata": {},
   "outputs": [
    {
     "name": "stdout",
     "output_type": "stream",
     "text": [
      "saving file as {'aod_10km_grid_green_band_055_2021-10-15_to_2021-10-22'}\n"
     ]
    }
   ],
   "source": [
    "# Error aod_10km_grid_2021-10-15_to_2021-11-01\n",
    "start_date = \"2021-10-15\"\n",
    "end_date = \"2021-10-22\"\n",
    "\n",
    "grid_aod = process_image(start_date, end_date)\n",
    "x = \"aod_10km_grid_green_band_055\"\n",
    "y = start_date\n",
    "t = \"to\"\n",
    "z = end_date\n",
    "output_name = \"_\".join([x, y, t, z])\n",
    "aod_task = ee.batch.Export.table.toDrive(\n",
    "    collection = grid_aod,\n",
    "    folder = output_drive,\n",
    "    description = output_name,\n",
    "    fileFormat = \"CSV\",\n",
    "    selectors = export_properties)\n",
    "print(f\"saving file as\", {output_name})\n",
    "aod_task.start()"
   ]
  },
  {
   "cell_type": "code",
   "execution_count": 27,
   "id": "7aa06ce3",
   "metadata": {},
   "outputs": [
    {
     "name": "stdout",
     "output_type": "stream",
     "text": [
      "saving file as {'aod_10km_grid_green_band_055_2021-10-22_to_2021-11-01'}\n"
     ]
    }
   ],
   "source": [
    "# Error aod_10km_grid_2021-10-15_to_2021-11-01\n",
    "start_date = \"2021-10-22\"\n",
    "end_date = \"2021-11-01\"\n",
    "\n",
    "grid_aod = process_image(start_date, end_date)\n",
    "x = \"aod_10km_grid_green_band_055\"\n",
    "y = start_date\n",
    "t = \"to\"\n",
    "z = end_date\n",
    "output_name = \"_\".join([x, y, t, z])\n",
    "aod_task = ee.batch.Export.table.toDrive(\n",
    "    collection = grid_aod,\n",
    "    folder = output_drive,\n",
    "    description = output_name,\n",
    "    fileFormat = \"CSV\",\n",
    "    selectors = export_properties)\n",
    "print(f\"saving file as\", {output_name})\n",
    "aod_task.start()"
   ]
  },
  {
   "cell_type": "code",
   "execution_count": 28,
   "id": "10a6d991",
   "metadata": {},
   "outputs": [
    {
     "name": "stdout",
     "output_type": "stream",
     "text": [
      "saving file as {'aod_10km_grid_green_band_055_2022-07-15_to_2022-07-22'}\n"
     ]
    }
   ],
   "source": [
    "# Error aod_10km_grid_green_band_055_2022-07-15_to_2022-08-01\n",
    "start_date = \"2022-07-15\"\n",
    "end_date = \"2022-07-22\"\n",
    "\n",
    "grid_aod = process_image(start_date, end_date)\n",
    "x = \"aod_10km_grid_green_band_055\"\n",
    "y = start_date\n",
    "t = \"to\"\n",
    "z = end_date\n",
    "output_name = \"_\".join([x, y, t, z])\n",
    "aod_task = ee.batch.Export.table.toDrive(\n",
    "    collection = grid_aod,\n",
    "    folder = output_drive,\n",
    "    description = output_name,\n",
    "    fileFormat = \"CSV\",\n",
    "    selectors = export_properties)\n",
    "print(f\"saving file as\", {output_name})\n",
    "aod_task.start()"
   ]
  },
  {
   "cell_type": "code",
   "execution_count": 29,
   "id": "cd3f6f96",
   "metadata": {},
   "outputs": [
    {
     "name": "stdout",
     "output_type": "stream",
     "text": [
      "saving file as {'aod_10km_grid_green_band_055_2022-07-22_to_2022-08-01'}\n"
     ]
    }
   ],
   "source": [
    "# Error aod_10km_grid_green_band_055_2022-07-15_to_2022-08-01\n",
    "start_date = \"2022-07-22\"\n",
    "end_date = \"2022-08-01\"\n",
    "\n",
    "grid_aod = process_image(start_date, end_date)\n",
    "x = \"aod_10km_grid_green_band_055\"\n",
    "y = start_date\n",
    "t = \"to\"\n",
    "z = end_date\n",
    "output_name = \"_\".join([x, y, t, z])\n",
    "aod_task = ee.batch.Export.table.toDrive(\n",
    "    collection = grid_aod,\n",
    "    folder = output_drive,\n",
    "    description = output_name,\n",
    "    fileFormat = \"CSV\",\n",
    "    selectors = export_properties)\n",
    "print(f\"saving file as\", {output_name})\n",
    "aod_task.start()"
   ]
  },
  {
   "cell_type": "code",
   "execution_count": 31,
   "id": "2a299f3a",
   "metadata": {},
   "outputs": [],
   "source": [
    "# Error\n",
    "# aod_10km_grid_green_band_055_2022-07-15_to_2022-07-22\n",
    "# aod_10km_grid_green_band_055_2021-10-22_to_2021-11-01\n",
    "# aod_10km_grid_green_band_055_2021-10-15_to_2021-10-22"
   ]
  },
  {
   "cell_type": "code",
   "execution_count": null,
   "id": "30289edc",
   "metadata": {},
   "outputs": [],
   "source": [
    "# if you want to cancel tasks:\n",
    "# https://code.earthengine.google.com/tasks"
   ]
  }
 ],
 "metadata": {
  "kernelspec": {
   "display_name": "Python [conda env:ee] *",
   "language": "python",
   "name": "conda-env-ee-py"
  },
  "language_info": {
   "codemirror_mode": {
    "name": "ipython",
    "version": 3
   },
   "file_extension": ".py",
   "mimetype": "text/x-python",
   "name": "python",
   "nbconvert_exporter": "python",
   "pygments_lexer": "ipython3",
   "version": "3.8.15"
  }
 },
 "nbformat": 4,
 "nbformat_minor": 5
}
