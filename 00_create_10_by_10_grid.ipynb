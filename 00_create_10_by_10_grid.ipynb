{
 "cells": [
  {
   "cell_type": "code",
   "execution_count": 1,
   "id": "f35ac401",
   "metadata": {},
   "outputs": [],
   "source": [
    "import pandas as pd\n",
    "import geopandas as gpd\n",
    "import shapely\n",
    "from shapely.geometry.polygon import Polygon\n",
    "import numpy as np\n",
    "import pyproj\n",
    "import math"
   ]
  },
  {
   "cell_type": "code",
   "execution_count": 2,
   "id": "7d3d324a",
   "metadata": {},
   "outputs": [],
   "source": [
    "# Read in the GeoJSON file\n",
    "zone = gpd.read_file('map.geojson')"
   ]
  },
  {
   "cell_type": "code",
   "execution_count": 3,
   "id": "3dd76a95",
   "metadata": {},
   "outputs": [
    {
     "data": {
      "text/html": [
       "<div>\n",
       "<style scoped>\n",
       "    .dataframe tbody tr th:only-of-type {\n",
       "        vertical-align: middle;\n",
       "    }\n",
       "\n",
       "    .dataframe tbody tr th {\n",
       "        vertical-align: top;\n",
       "    }\n",
       "\n",
       "    .dataframe thead th {\n",
       "        text-align: right;\n",
       "    }\n",
       "</style>\n",
       "<table border=\"1\" class=\"dataframe\">\n",
       "  <thead>\n",
       "    <tr style=\"text-align: right;\">\n",
       "      <th></th>\n",
       "      <th>geometry</th>\n",
       "    </tr>\n",
       "  </thead>\n",
       "  <tbody>\n",
       "    <tr>\n",
       "      <th>0</th>\n",
       "      <td>POLYGON ((6521887.454 4638946.148, 6521887.454...</td>\n",
       "    </tr>\n",
       "  </tbody>\n",
       "</table>\n",
       "</div>"
      ],
      "text/plain": [
       "                                            geometry\n",
       "0  POLYGON ((6521887.454 4638946.148, 6521887.454..."
      ]
     },
     "execution_count": 3,
     "metadata": {},
     "output_type": "execute_result"
    }
   ],
   "source": [
    "zone = zone.to_crs(epsg = 3857)\n",
    "zone"
   ]
  },
  {
   "cell_type": "code",
   "execution_count": 4,
   "id": "79c1ab11",
   "metadata": {},
   "outputs": [
    {
     "data": {
      "text/plain": [
       "(6521887.453627451, 724394.7404732915, 11012147.2208873, 4638946.148399052)"
      ]
     },
     "execution_count": 4,
     "metadata": {},
     "output_type": "execute_result"
    }
   ],
   "source": [
    "xmin, ymin, xmax, ymax = zone.total_bounds\n",
    "xmin, ymin, xmax, ymax"
   ]
  },
  {
   "cell_type": "code",
   "execution_count": 5,
   "id": "2f7af9be",
   "metadata": {},
   "outputs": [],
   "source": [
    "# Set the resolution for the grid (10km x 10km)\n",
    "res = 10000"
   ]
  },
  {
   "cell_type": "code",
   "execution_count": 6,
   "id": "4ef8000e",
   "metadata": {},
   "outputs": [],
   "source": [
    "cols = list(np.arange(xmin, xmax + res, res))\n",
    "rows = list(np.arange(ymin, ymax + res, res))"
   ]
  },
  {
   "cell_type": "code",
   "execution_count": 7,
   "id": "cf16d42f",
   "metadata": {},
   "outputs": [
    {
     "name": "stdout",
     "output_type": "stream",
     "text": [
      "393\n"
     ]
    },
    {
     "data": {
      "text/plain": [
       "451"
      ]
     },
     "execution_count": 7,
     "metadata": {},
     "output_type": "execute_result"
    }
   ],
   "source": [
    "print(len(rows))\n",
    "len(cols)"
   ]
  },
  {
   "cell_type": "code",
   "execution_count": 8,
   "id": "3c838f52",
   "metadata": {},
   "outputs": [],
   "source": [
    "polygons = []\n",
    "for x in cols[:-1]:\n",
    "    for y in rows[:-1]:\n",
    "        polygons.append(Polygon([(x,y), (x+res, y), (x+res, y+res), (x, y+res)]))"
   ]
  },
  {
   "cell_type": "code",
   "execution_count": 9,
   "id": "505f1f29",
   "metadata": {},
   "outputs": [],
   "source": [
    "grid_10km = gpd.GeoDataFrame({'geometry': polygons}, crs= 'EPSG:3857') "
   ]
  },
  {
   "cell_type": "code",
   "execution_count": 10,
   "id": "defddaad",
   "metadata": {},
   "outputs": [],
   "source": [
    "# Add a buffer of 1km around each cell\n",
    "grid_10km['geometry'] = grid_10km['geometry'].buffer(res/10)"
   ]
  },
  {
   "cell_type": "code",
   "execution_count": 12,
   "id": "1c3cafd4",
   "metadata": {},
   "outputs": [],
   "source": [
    "# Add a grid ID column\n",
    "grid_10km['grid_id'] = range(1, len(grid_10km) + 1)"
   ]
  },
  {
   "cell_type": "code",
   "execution_count": 13,
   "id": "074c7fdc",
   "metadata": {},
   "outputs": [],
   "source": [
    "# Change CRS because otherwise it returns an error in GEE\n",
    "grid_10km = grid_10km.to_crs(epsg = 4326)"
   ]
  },
  {
   "cell_type": "code",
   "execution_count": 14,
   "id": "1ac3eda9",
   "metadata": {},
   "outputs": [
    {
     "data": {
      "text/plain": [
       "(176400, 2)"
      ]
     },
     "execution_count": 14,
     "metadata": {},
     "output_type": "execute_result"
    }
   ],
   "source": [
    "grid_10km.shape"
   ]
  },
  {
   "cell_type": "code",
   "execution_count": 15,
   "id": "55b5d9fb",
   "metadata": {},
   "outputs": [
    {
     "name": "stderr",
     "output_type": "stream",
     "text": [
      "C:\\Users\\ayako\\anaconda3\\lib\\site-packages\\geopandas\\io\\file.py:299: FutureWarning: pandas.Int64Index is deprecated and will be removed from pandas in a future version. Use pandas.Index with the appropriate dtype instead.\n",
      "  pd.Int64Index,\n"
     ]
    }
   ],
   "source": [
    "grid_10km.to_file(\"grid_10km_new\", driver=\"GeoJSON\")"
   ]
  },
  {
   "cell_type": "code",
   "execution_count": 16,
   "id": "d54aaf31",
   "metadata": {
    "scrolled": true
   },
   "outputs": [
    {
     "name": "stderr",
     "output_type": "stream",
     "text": [
      "C:\\Users\\ayako\\anaconda3\\lib\\site-packages\\geopandas\\io\\file.py:299: FutureWarning: pandas.Int64Index is deprecated and will be removed from pandas in a future version. Use pandas.Index with the appropriate dtype instead.\n",
      "  pd.Int64Index,\n"
     ]
    }
   ],
   "source": [
    "grid_10km.to_file(\"grid_10km_new\", driver='ESRI Shapefile')"
   ]
  },
  {
   "cell_type": "code",
   "execution_count": null,
   "id": "4ffa1cc6",
   "metadata": {},
   "outputs": [],
   "source": []
  }
 ],
 "metadata": {
  "kernelspec": {
   "display_name": "Python 3 (ipykernel)",
   "language": "python",
   "name": "python3"
  },
  "language_info": {
   "codemirror_mode": {
    "name": "ipython",
    "version": 3
   },
   "file_extension": ".py",
   "mimetype": "text/x-python",
   "name": "python",
   "nbconvert_exporter": "python",
   "pygments_lexer": "ipython3",
   "version": "3.9.13"
  }
 },
 "nbformat": 4,
 "nbformat_minor": 5
}
